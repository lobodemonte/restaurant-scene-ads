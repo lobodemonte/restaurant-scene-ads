{
 "cells": [
  {
   "cell_type": "markdown",
   "metadata": {},
   "source": [
    "The purpose of this notebook is to merge the ACS data with the 2019 TIGER/Line shapefile of Census Tracts in New York. This enables further merging and cross-analysis with the georeferenced Yelp data. "
   ]
  },
  {
   "cell_type": "code",
   "execution_count": 2,
   "metadata": {},
   "outputs": [],
   "source": [
    "# Setting up modules\n",
    "import geopandas as gpd\n",
    "import numpy as np\n",
    "import pandas as pd\n",
    "import matplotlib.pylab as plt\n",
    "\n",
    "# Data path \n",
    "path = './data/'"
   ]
  },
  {
   "cell_type": "code",
   "execution_count": 17,
   "metadata": {},
   "outputs": [],
   "source": [
    "# Import data\n",
    "NY_state_census_tracts = gpd.read_file(path + \"tl_2019_36_tract.shp\")\n",
    "MN_Yelp = gpd.read_file(path + \"MN_Yelp.shp\")\n",
    "BK_Yelp = gpd.read_file(path + \"BK_Yelp.shp\")\n",
    "BK_hh_income_dis_pct = pd.read_csv(path + 'BK_hh_income_dis_pct.csv')\n",
    "BK_hh_income_dis_pct = pd.DataFrame(BK_hh_income_dis_pct)\n",
    "\n",
    "##NY_state_census_tracts.head()\n",
    "##MN_Yelp.head()"
   ]
  },
  {
   "cell_type": "code",
   "execution_count": 18,
   "metadata": {},
   "outputs": [
    {
     "data": {
      "text/html": [
       "<div>\n",
       "<style scoped>\n",
       "    .dataframe tbody tr th:only-of-type {\n",
       "        vertical-align: middle;\n",
       "    }\n",
       "\n",
       "    .dataframe tbody tr th {\n",
       "        vertical-align: top;\n",
       "    }\n",
       "\n",
       "    .dataframe thead th {\n",
       "        text-align: right;\n",
       "    }\n",
       "</style>\n",
       "<table border=\"1\" class=\"dataframe\">\n",
       "  <thead>\n",
       "    <tr style=\"text-align: right;\">\n",
       "      <th></th>\n",
       "      <th>ID</th>\n",
       "      <th>Geography</th>\n",
       "      <th>Households</th>\n",
       "      <th>0-25k</th>\n",
       "      <th>25k-50k</th>\n",
       "      <th>50k-75k</th>\n",
       "      <th>75k-100k</th>\n",
       "      <th>100k-125k</th>\n",
       "      <th>125k-150k</th>\n",
       "      <th>&gt; 150k</th>\n",
       "    </tr>\n",
       "  </thead>\n",
       "  <tbody>\n",
       "    <tr>\n",
       "      <th>0</th>\n",
       "      <td>36047000100</td>\n",
       "      <td>Census Tract 1, Kings County, New York</td>\n",
       "      <td>2184</td>\n",
       "      <td>0.212</td>\n",
       "      <td>0.099</td>\n",
       "      <td>0.087</td>\n",
       "      <td>0.184</td>\n",
       "      <td>0.066</td>\n",
       "      <td>0.070</td>\n",
       "      <td>0.281</td>\n",
       "    </tr>\n",
       "    <tr>\n",
       "      <th>1</th>\n",
       "      <td>36047000200</td>\n",
       "      <td>Census Tract 2, Kings County, New York</td>\n",
       "      <td>377</td>\n",
       "      <td>0.263</td>\n",
       "      <td>0.305</td>\n",
       "      <td>0.207</td>\n",
       "      <td>0.069</td>\n",
       "      <td>0.125</td>\n",
       "      <td>0.000</td>\n",
       "      <td>0.032</td>\n",
       "    </tr>\n",
       "    <tr>\n",
       "      <th>2</th>\n",
       "      <td>36047000301</td>\n",
       "      <td>Census Tract 3.01, Kings County, New York</td>\n",
       "      <td>1865</td>\n",
       "      <td>0.043</td>\n",
       "      <td>0.205</td>\n",
       "      <td>0.009</td>\n",
       "      <td>0.107</td>\n",
       "      <td>0.124</td>\n",
       "      <td>0.076</td>\n",
       "      <td>0.435</td>\n",
       "    </tr>\n",
       "    <tr>\n",
       "      <th>3</th>\n",
       "      <td>36047000501</td>\n",
       "      <td>Census Tract 5.01, Kings County, New York</td>\n",
       "      <td>1772</td>\n",
       "      <td>0.188</td>\n",
       "      <td>0.042</td>\n",
       "      <td>0.094</td>\n",
       "      <td>0.056</td>\n",
       "      <td>0.095</td>\n",
       "      <td>0.117</td>\n",
       "      <td>0.407</td>\n",
       "    </tr>\n",
       "    <tr>\n",
       "      <th>4</th>\n",
       "      <td>36047000502</td>\n",
       "      <td>Census Tract 5.02, Kings County, New York</td>\n",
       "      <td>1560</td>\n",
       "      <td>0.132</td>\n",
       "      <td>0.115</td>\n",
       "      <td>0.074</td>\n",
       "      <td>0.107</td>\n",
       "      <td>0.099</td>\n",
       "      <td>0.072</td>\n",
       "      <td>0.399</td>\n",
       "    </tr>\n",
       "  </tbody>\n",
       "</table>\n",
       "</div>"
      ],
      "text/plain": [
       "            ID                                  Geography  Households  0-25k  \\\n",
       "0  36047000100     Census Tract 1, Kings County, New York        2184  0.212   \n",
       "1  36047000200     Census Tract 2, Kings County, New York         377  0.263   \n",
       "2  36047000301  Census Tract 3.01, Kings County, New York        1865  0.043   \n",
       "3  36047000501  Census Tract 5.01, Kings County, New York        1772  0.188   \n",
       "4  36047000502  Census Tract 5.02, Kings County, New York        1560  0.132   \n",
       "\n",
       "   25k-50k  50k-75k  75k-100k  100k-125k  125k-150k  > 150k  \n",
       "0    0.099    0.087     0.184      0.066      0.070   0.281  \n",
       "1    0.305    0.207     0.069      0.125      0.000   0.032  \n",
       "2    0.205    0.009     0.107      0.124      0.076   0.435  \n",
       "3    0.042    0.094     0.056      0.095      0.117   0.407  \n",
       "4    0.115    0.074     0.107      0.099      0.072   0.399  "
      ]
     },
     "execution_count": 18,
     "metadata": {},
     "output_type": "execute_result"
    }
   ],
   "source": [
    "BK_hh_income_dis_pct.head()"
   ]
  },
  {
   "cell_type": "code",
   "execution_count": 22,
   "metadata": {},
   "outputs": [],
   "source": [
    "# Filter for NYC (Manhattan and Brooklyn)\n",
    "\n",
    "BK = NY_state_census_tracts[NY_state_census_tracts[\"COUNTYFP\"] == '047']\n",
    "MN = NY_state_census_tracts[NY_state_census_tracts[\"COUNTYFP\"] == '061']\n",
    "\n",
    "# Cutting out all of the crap\n",
    "MN = MN[[\"GEOID\", \"geometry\"]]\n",
    "BK = BK[[\"GEOID\", \"geometry\"]]\n",
    "\n",
    "# Converting type of column\n",
    "# int wont work because it is too long\n",
    "BK.GEOID = BK.GEOID.astype(float)\n",
    "# Merging\n",
    "BK = BK.merge(BK_hh_income_dis_pct, left_on = 'GEOID', right_on = 'ID')"
   ]
  },
  {
   "cell_type": "code",
   "execution_count": 24,
   "metadata": {},
   "outputs": [
    {
     "data": {
      "text/plain": [
       "True"
      ]
     },
     "execution_count": 24,
     "metadata": {},
     "output_type": "execute_result"
    }
   ],
   "source": [
    "# Are the CRSes identical?\n",
    "MN.crs == MN_Yelp.crs\n",
    "BK.crs == BK_Yelp.crs"
   ]
  },
  {
   "cell_type": "code",
   "execution_count": 31,
   "metadata": {},
   "outputs": [
    {
     "data": {
      "text/html": [
       "<div>\n",
       "<style scoped>\n",
       "    .dataframe tbody tr th:only-of-type {\n",
       "        vertical-align: middle;\n",
       "    }\n",
       "\n",
       "    .dataframe tbody tr th {\n",
       "        vertical-align: top;\n",
       "    }\n",
       "\n",
       "    .dataframe thead th {\n",
       "        text-align: right;\n",
       "    }\n",
       "</style>\n",
       "<table border=\"1\" class=\"dataframe\">\n",
       "  <thead>\n",
       "    <tr style=\"text-align: right;\">\n",
       "      <th></th>\n",
       "      <th>id</th>\n",
       "      <th>alias</th>\n",
       "      <th>name</th>\n",
       "      <th>is_closed</th>\n",
       "      <th>review_cou</th>\n",
       "      <th>rating</th>\n",
       "      <th>price</th>\n",
       "      <th>categories</th>\n",
       "      <th>latitude</th>\n",
       "      <th>longitude</th>\n",
       "      <th>...</th>\n",
       "      <th>ID</th>\n",
       "      <th>Geography</th>\n",
       "      <th>Households</th>\n",
       "      <th>0-25k</th>\n",
       "      <th>25k-50k</th>\n",
       "      <th>50k-75k</th>\n",
       "      <th>75k-100k</th>\n",
       "      <th>100k-125k</th>\n",
       "      <th>125k-150k</th>\n",
       "      <th>&gt; 150k</th>\n",
       "    </tr>\n",
       "  </thead>\n",
       "  <tbody>\n",
       "    <tr>\n",
       "      <th>0</th>\n",
       "      <td>6gzQLjzJk25ePm_JS7ZAug</td>\n",
       "      <td>esme-brooklyn-2</td>\n",
       "      <td>Esme</td>\n",
       "      <td>0</td>\n",
       "      <td>328</td>\n",
       "      <td>4.5</td>\n",
       "      <td>$$</td>\n",
       "      <td>newamerican|cocktailbars</td>\n",
       "      <td>40.733203</td>\n",
       "      <td>-73.954967</td>\n",
       "      <td>...</td>\n",
       "      <td>36047056300</td>\n",
       "      <td>Census Tract 563, Kings County, New York</td>\n",
       "      <td>2250</td>\n",
       "      <td>0.285</td>\n",
       "      <td>0.114</td>\n",
       "      <td>0.13</td>\n",
       "      <td>0.116</td>\n",
       "      <td>0.084</td>\n",
       "      <td>0.084</td>\n",
       "      <td>0.186</td>\n",
       "    </tr>\n",
       "    <tr>\n",
       "      <th>2</th>\n",
       "      <td>utM-5navObsVA5sCRHobzA</td>\n",
       "      <td>madre-brooklyn-2</td>\n",
       "      <td>Madre</td>\n",
       "      <td>0</td>\n",
       "      <td>38</td>\n",
       "      <td>5.0</td>\n",
       "      <td>MISSING</td>\n",
       "      <td>newamerican</td>\n",
       "      <td>40.733110</td>\n",
       "      <td>-73.957980</td>\n",
       "      <td>...</td>\n",
       "      <td>36047056300</td>\n",
       "      <td>Census Tract 563, Kings County, New York</td>\n",
       "      <td>2250</td>\n",
       "      <td>0.285</td>\n",
       "      <td>0.114</td>\n",
       "      <td>0.13</td>\n",
       "      <td>0.116</td>\n",
       "      <td>0.084</td>\n",
       "      <td>0.084</td>\n",
       "      <td>0.186</td>\n",
       "    </tr>\n",
       "  </tbody>\n",
       "</table>\n",
       "<p>2 rows × 28 columns</p>\n",
       "</div>"
      ],
      "text/plain": [
       "                       id             alias   name  is_closed  review_cou  \\\n",
       "0  6gzQLjzJk25ePm_JS7ZAug   esme-brooklyn-2   Esme          0         328   \n",
       "2  utM-5navObsVA5sCRHobzA  madre-brooklyn-2  Madre          0          38   \n",
       "\n",
       "   rating    price                categories   latitude  longitude  ...  \\\n",
       "0     4.5       $$  newamerican|cocktailbars  40.733203 -73.954967  ...   \n",
       "2     5.0  MISSING               newamerican  40.733110 -73.957980  ...   \n",
       "\n",
       "            ID                                 Geography Households  0-25k  \\\n",
       "0  36047056300  Census Tract 563, Kings County, New York       2250  0.285   \n",
       "2  36047056300  Census Tract 563, Kings County, New York       2250  0.285   \n",
       "\n",
       "  25k-50k 50k-75k  75k-100k  100k-125k  125k-150k > 150k  \n",
       "0   0.114    0.13     0.116      0.084      0.084  0.186  \n",
       "2   0.114    0.13     0.116      0.084      0.084  0.186  \n",
       "\n",
       "[2 rows x 28 columns]"
      ]
     },
     "execution_count": 31,
     "metadata": {},
     "output_type": "execute_result"
    }
   ],
   "source": [
    "# Spatial join\n",
    "MN_Yelp_joined = gpd.sjoin(MN_Yelp, MN, how = 'inner', op = 'within')\n",
    "MN_Yelp_joined.head(2)\n",
    "BK_Yelp_joined = gpd.sjoin(BK_Yelp, BK, how = 'inner', op = 'within')\n",
    "BK_Yelp_joined.head(2)\n"
   ]
  },
  {
   "cell_type": "code",
   "execution_count": 32,
   "metadata": {},
   "outputs": [
    {
     "data": {
      "text/plain": [
       "(5824, 28)"
      ]
     },
     "execution_count": 32,
     "metadata": {},
     "output_type": "execute_result"
    }
   ],
   "source": [
    "BK_Yelp_joined.shape"
   ]
  },
  {
   "cell_type": "code",
   "execution_count": 33,
   "metadata": {},
   "outputs": [],
   "source": [
    "# Saving to file as .shp\n",
    "## Impt to set encoding = 'utf-8' or it will throw a codec error\n",
    "MN_Yelp_joined.to_file(path + 'MN_Yelp_CensusTract.shp', driver='ESRI Shapefile', encoding = 'utf-8')\n",
    "BK_Yelp_joined.to_file(path + 'BK_Yelp_CensusTract.shp', driver='ESRI Shapefile', encoding = 'utf-8')\n"
   ]
  }
 ],
 "metadata": {
  "kernelspec": {
   "display_name": "Python 3",
   "language": "python",
   "name": "python3"
  },
  "language_info": {
   "codemirror_mode": {
    "name": "ipython",
    "version": 3
   },
   "file_extension": ".py",
   "mimetype": "text/x-python",
   "name": "python",
   "nbconvert_exporter": "python",
   "pygments_lexer": "ipython3",
   "version": "3.7.3"
  }
 },
 "nbformat": 4,
 "nbformat_minor": 2
}
