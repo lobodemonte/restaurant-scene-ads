{
 "cells": [
  {
   "cell_type": "markdown",
   "metadata": {},
   "source": [
    "### Purposes\n",
    "1. Merge the 2017 ACS 5-year estimate household income distribution data with the 2019 TIGER/Line shapefile of Census Tracts in Brooklyn.\n",
    "2. Read in the Neighborhood Tabulation Area (NTA) data for use as a scale of geospatial analysis.\n",
    "3. Aggregate the 2017 5-year estimate household income distribution data at the NTA scale\n",
    "4. Merge the two datasets above with the georeferenced Yelp data"
   ]
  },
  {
   "cell_type": "code",
   "execution_count": 1,
   "metadata": {},
   "outputs": [],
   "source": [
    "# Setting up modules\n",
    "import geopandas as gpd\n",
    "import numpy as np\n",
    "import pandas as pd\n",
    "import matplotlib.pylab as plt\n",
    "\n",
    "# Data path \n",
    "path_census_tracts = './data/ACS/'\n",
    "path_yelp = './data/Yelp/'"
   ]
  },
  {
   "cell_type": "code",
   "execution_count": 44,
   "metadata": {},
   "outputs": [],
   "source": [
    "# Import csvs\n",
    "BK_hh_income_dis_pct = pd.read_csv(path_census_tracts + 'BK_hh_income_dis_pct.csv')\n",
    "BK_hh_income_dis_count = pd.read_csv(path_census_tracts + \"BK_hh_income_dis_count.csv\")\n",
    "# BK_hh_income_dis_pct = pd.DataFrame(BK_hh_income_dis_pct)\n",
    "NTA_census_tract_equivalency_table = pd.read_csv(path_census_tracts + \"CensusTracts/nyc2010census_tabulation_equiv.csv\")\n",
    "\n",
    "# Import shps\n",
    "NY_state_census_tracts = gpd.read_file(path_census_tracts + \"CensusTracts/tl_2019_36_tract.shp\")\n",
    "MN_Yelp = gpd.read_file(path_yelp + \"MN/MN_Yelp.shp\")\n",
    "BK_Yelp = gpd.read_file(path_yelp + \"BK/BK_Yelp.shp\")\n",
    "NYC_neighborhood_tabn_areas = gpd.read_file(path_census_tracts + \"CensusTracts/nynta_reproj.shp\")"
   ]
  },
  {
   "cell_type": "code",
   "execution_count": 3,
   "metadata": {},
   "outputs": [
    {
     "data": {
      "text/html": [
       "<div>\n",
       "<style scoped>\n",
       "    .dataframe tbody tr th:only-of-type {\n",
       "        vertical-align: middle;\n",
       "    }\n",
       "\n",
       "    .dataframe tbody tr th {\n",
       "        vertical-align: top;\n",
       "    }\n",
       "\n",
       "    .dataframe thead th {\n",
       "        text-align: right;\n",
       "    }\n",
       "</style>\n",
       "<table border=\"1\" class=\"dataframe\">\n",
       "  <thead>\n",
       "    <tr style=\"text-align: right;\">\n",
       "      <th></th>\n",
       "      <th>BoroCode</th>\n",
       "      <th>BoroName</th>\n",
       "      <th>CountyFIPS</th>\n",
       "      <th>NTACode</th>\n",
       "      <th>NTAName</th>\n",
       "      <th>Shape_Leng</th>\n",
       "      <th>Shape_Area</th>\n",
       "      <th>geometry</th>\n",
       "    </tr>\n",
       "  </thead>\n",
       "  <tbody>\n",
       "    <tr>\n",
       "      <th>0</th>\n",
       "      <td>3</td>\n",
       "      <td>Brooklyn</td>\n",
       "      <td>047</td>\n",
       "      <td>BK88</td>\n",
       "      <td>Borough Park</td>\n",
       "      <td>39247.228074</td>\n",
       "      <td>5.400502e+07</td>\n",
       "      <td>POLYGON ((-73.97604935657382 40.63127590564677...</td>\n",
       "    </tr>\n",
       "    <tr>\n",
       "      <th>1</th>\n",
       "      <td>4</td>\n",
       "      <td>Queens</td>\n",
       "      <td>081</td>\n",
       "      <td>QN51</td>\n",
       "      <td>Murray Hill</td>\n",
       "      <td>33266.904811</td>\n",
       "      <td>5.248828e+07</td>\n",
       "      <td>POLYGON ((-73.80379022888246 40.77561011179247...</td>\n",
       "    </tr>\n",
       "    <tr>\n",
       "      <th>2</th>\n",
       "      <td>4</td>\n",
       "      <td>Queens</td>\n",
       "      <td>081</td>\n",
       "      <td>QN27</td>\n",
       "      <td>East Elmhurst</td>\n",
       "      <td>19816.711538</td>\n",
       "      <td>1.972685e+07</td>\n",
       "      <td>POLYGON ((-73.86109724401859 40.76366447708767...</td>\n",
       "    </tr>\n",
       "    <tr>\n",
       "      <th>3</th>\n",
       "      <td>4</td>\n",
       "      <td>Queens</td>\n",
       "      <td>081</td>\n",
       "      <td>QN07</td>\n",
       "      <td>Hollis</td>\n",
       "      <td>20976.335837</td>\n",
       "      <td>2.288777e+07</td>\n",
       "      <td>POLYGON ((-73.75725671509139 40.71813860166255...</td>\n",
       "    </tr>\n",
       "    <tr>\n",
       "      <th>4</th>\n",
       "      <td>1</td>\n",
       "      <td>Manhattan</td>\n",
       "      <td>061</td>\n",
       "      <td>MN06</td>\n",
       "      <td>Manhattanville</td>\n",
       "      <td>17040.686548</td>\n",
       "      <td>1.064708e+07</td>\n",
       "      <td>POLYGON ((-73.94607828608069 40.8212632160616,...</td>\n",
       "    </tr>\n",
       "  </tbody>\n",
       "</table>\n",
       "</div>"
      ],
      "text/plain": [
       "   BoroCode   BoroName CountyFIPS NTACode         NTAName    Shape_Leng  \\\n",
       "0         3   Brooklyn        047    BK88    Borough Park  39247.228074   \n",
       "1         4     Queens        081    QN51     Murray Hill  33266.904811   \n",
       "2         4     Queens        081    QN27   East Elmhurst  19816.711538   \n",
       "3         4     Queens        081    QN07          Hollis  20976.335837   \n",
       "4         1  Manhattan        061    MN06  Manhattanville  17040.686548   \n",
       "\n",
       "     Shape_Area                                           geometry  \n",
       "0  5.400502e+07  POLYGON ((-73.97604935657382 40.63127590564677...  \n",
       "1  5.248828e+07  POLYGON ((-73.80379022888246 40.77561011179247...  \n",
       "2  1.972685e+07  POLYGON ((-73.86109724401859 40.76366447708767...  \n",
       "3  2.288777e+07  POLYGON ((-73.75725671509139 40.71813860166255...  \n",
       "4  1.064708e+07  POLYGON ((-73.94607828608069 40.8212632160616,...  "
      ]
     },
     "execution_count": 3,
     "metadata": {},
     "output_type": "execute_result"
    }
   ],
   "source": [
    "NYC_neighborhood_tabn_areas.head()"
   ]
  },
  {
   "cell_type": "code",
   "execution_count": 9,
   "metadata": {},
   "outputs": [
    {
     "data": {
      "text/html": [
       "<div>\n",
       "<style scoped>\n",
       "    .dataframe tbody tr th:only-of-type {\n",
       "        vertical-align: middle;\n",
       "    }\n",
       "\n",
       "    .dataframe tbody tr th {\n",
       "        vertical-align: top;\n",
       "    }\n",
       "\n",
       "    .dataframe thead th {\n",
       "        text-align: right;\n",
       "    }\n",
       "</style>\n",
       "<table border=\"1\" class=\"dataframe\">\n",
       "  <thead>\n",
       "    <tr style=\"text-align: right;\">\n",
       "      <th></th>\n",
       "      <th>ID</th>\n",
       "      <th>Geography</th>\n",
       "      <th>Households</th>\n",
       "      <th>0-25k</th>\n",
       "      <th>25k-50k</th>\n",
       "      <th>50k-75k</th>\n",
       "      <th>75k-100k</th>\n",
       "      <th>100k-125k</th>\n",
       "      <th>125k-150k</th>\n",
       "      <th>&gt; 150k</th>\n",
       "    </tr>\n",
       "  </thead>\n",
       "  <tbody>\n",
       "    <tr>\n",
       "      <th>0</th>\n",
       "      <td>36047000100</td>\n",
       "      <td>Census Tract 1, Kings County, New York</td>\n",
       "      <td>2184</td>\n",
       "      <td>464</td>\n",
       "      <td>217</td>\n",
       "      <td>190</td>\n",
       "      <td>402</td>\n",
       "      <td>145</td>\n",
       "      <td>153</td>\n",
       "      <td>613</td>\n",
       "    </tr>\n",
       "    <tr>\n",
       "      <th>1</th>\n",
       "      <td>36047000200</td>\n",
       "      <td>Census Tract 2, Kings County, New York</td>\n",
       "      <td>377</td>\n",
       "      <td>99</td>\n",
       "      <td>115</td>\n",
       "      <td>78</td>\n",
       "      <td>26</td>\n",
       "      <td>47</td>\n",
       "      <td>0</td>\n",
       "      <td>12</td>\n",
       "    </tr>\n",
       "    <tr>\n",
       "      <th>2</th>\n",
       "      <td>36047000301</td>\n",
       "      <td>Census Tract 3.01, Kings County, New York</td>\n",
       "      <td>1865</td>\n",
       "      <td>81</td>\n",
       "      <td>382</td>\n",
       "      <td>16</td>\n",
       "      <td>200</td>\n",
       "      <td>232</td>\n",
       "      <td>142</td>\n",
       "      <td>812</td>\n",
       "    </tr>\n",
       "    <tr>\n",
       "      <th>3</th>\n",
       "      <td>36047000501</td>\n",
       "      <td>Census Tract 5.01, Kings County, New York</td>\n",
       "      <td>1772</td>\n",
       "      <td>333</td>\n",
       "      <td>74</td>\n",
       "      <td>167</td>\n",
       "      <td>99</td>\n",
       "      <td>169</td>\n",
       "      <td>208</td>\n",
       "      <td>722</td>\n",
       "    </tr>\n",
       "    <tr>\n",
       "      <th>4</th>\n",
       "      <td>36047000502</td>\n",
       "      <td>Census Tract 5.02, Kings County, New York</td>\n",
       "      <td>1560</td>\n",
       "      <td>206</td>\n",
       "      <td>180</td>\n",
       "      <td>116</td>\n",
       "      <td>167</td>\n",
       "      <td>155</td>\n",
       "      <td>113</td>\n",
       "      <td>623</td>\n",
       "    </tr>\n",
       "  </tbody>\n",
       "</table>\n",
       "</div>"
      ],
      "text/plain": [
       "            ID                                  Geography  Households  0-25k  \\\n",
       "0  36047000100     Census Tract 1, Kings County, New York        2184    464   \n",
       "1  36047000200     Census Tract 2, Kings County, New York         377     99   \n",
       "2  36047000301  Census Tract 3.01, Kings County, New York        1865     81   \n",
       "3  36047000501  Census Tract 5.01, Kings County, New York        1772    333   \n",
       "4  36047000502  Census Tract 5.02, Kings County, New York        1560    206   \n",
       "\n",
       "   25k-50k  50k-75k  75k-100k  100k-125k  125k-150k  > 150k  \n",
       "0      217      190       402        145        153     613  \n",
       "1      115       78        26         47          0      12  \n",
       "2      382       16       200        232        142     812  \n",
       "3       74      167        99        169        208     722  \n",
       "4      180      116       167        155        113     623  "
      ]
     },
     "execution_count": 9,
     "metadata": {},
     "output_type": "execute_result"
    }
   ],
   "source": [
    "BK_hh_income_dis_count.head()"
   ]
  },
  {
   "cell_type": "code",
   "execution_count": 96,
   "metadata": {},
   "outputs": [],
   "source": [
    "# Filter for NYC (Manhattan and Brooklyn)\n",
    "\n",
    "BK = NY_state_census_tracts[NY_state_census_tracts[\"COUNTYFP\"] == '047']\n",
    "MN = NY_state_census_tracts[NY_state_census_tracts[\"COUNTYFP\"] == '061']\n",
    "BK_neighborhood_tabn_areas = NYC_neighborhood_tabn_areas[NYC_neighborhood_tabn_areas[\"BoroName\"] == \"Brooklyn\"]\n",
    "MN_neighborhood_tabn_areas = NYC_neighborhood_tabn_areas[NYC_neighborhood_tabn_areas[\"BoroName\"] == \"Manhattan\"]\n",
    "\n",
    "# Cutting out all of the crap\n",
    "MN = MN[[\"GEOID\", \"geometry\"]]\n",
    "BK = BK[[\"GEOID\", \"geometry\"]]\n",
    "BK_neighborhood_tabn_areas = BK_neighborhood_tabn_areas[[\"NTACode\", \"NTAName\", \"geometry\"]]\n",
    "MN_neighborhood_tabn_areas = MN_neighborhood_tabn_areas[[\"NTACode\", \"NTAName\", \"geometry\"]]\n",
    "\n",
    "# Converting type of column\n",
    "# int wont work because it is too long\n",
    "BK.GEOID = BK.GEOID.astype(float)\n",
    "# Merging\n",
    "BK = BK.merge(BK_hh_income_dis_count, left_on = 'GEOID', right_on = 'ID')"
   ]
  },
  {
   "cell_type": "code",
   "execution_count": 26,
   "metadata": {},
   "outputs": [
    {
     "name": "stdout",
     "output_type": "stream",
     "text": [
      "True\n",
      "True\n"
     ]
    }
   ],
   "source": [
    "# Reprojecting the BK_NTA file\n",
    "#BK_neighborhood_tabn_areas.crs = {'init': 'epsg:4269'}\n",
    "#MN_neighborhood_tabn_areas.crs = {'init': 'epsg:4269'}\n",
    "\n",
    "# Are the CRSes identical?\n",
    "print(BK.crs == BK_Yelp.crs)\n",
    "print(BK.crs == BK_neighborhood_tabn_areas.crs)"
   ]
  },
  {
   "cell_type": "markdown",
   "metadata": {},
   "source": [
    "At this point, we have a slight issue. The ACS data is collected at the Census tract level. We know that NTAs' borders line up perfectly with that of the census tracts. However, there is no column within the NTA shapefile that tells us which tracts each NTA is made up of. Hence, we need to perform a spatial join with the Brooklyn census tract file to create a column that identifies which NTA each tract belongs to so as to facilitate grouping and summary statistics. "
   ]
  },
  {
   "cell_type": "code",
   "execution_count": 30,
   "metadata": {},
   "outputs": [],
   "source": [
    "# Spatial join for Brooklyn ACS Census Tract with NTA\n",
    "##BK_ct_NTA_joined = gpd.sjoin(BK, BK_neighborhood_tabn_areas, how = \"inner\", op = \"intersects\")\n",
    "##BK_ct_NTA_joined = BK_ct_NTA_joined.drop(columns = [\"ID\",\"Geography\", \"index_right\"])"
   ]
  },
  {
   "cell_type": "code",
   "execution_count": 39,
   "metadata": {},
   "outputs": [
    {
     "name": "stdout",
     "output_type": "stream",
     "text": [
      "Number of census tracts in Brooklyn: 761\n",
      "Number of NTAs in Brooklyn: 51\n",
      "Number of duplicate rows based on GEOID post-spatial join: 802\n"
     ]
    }
   ],
   "source": [
    "##print(\"Number of census tracts in Brooklyn: \" + str(BK.shape[0]))\n",
    "##print(\"Number of NTAs in Brooklyn: \" + str(BK_neighborhood_tabn_areas.shape[0]))\n",
    "# Select all duplicate rows based on one column\n",
    "##duplicate_rows_bk_df = BK_ct_NTA_joined[BK_ct_NTA_joined.duplicated(subset = ['GEOID'])]\n",
    "##print(\"Number of duplicate rows based on GEOID post-spatial join: \" +  str(duplicate_rows_bk_df.shape[0]))"
   ]
  },
  {
   "cell_type": "markdown",
   "metadata": {
    "slideshow": {
     "slide_type": "slide"
    }
   },
   "source": [
    "Ideally, and more simply, I would do a spatial join as shown above between the NTA and Census Tract shapefiles to determine the NTA each census tract falls into. However, as the print-out above shows, there are multiple duplication of rows post spatial join. Why? The `op` argument in `gpd.sjoin` accepts one of three values: `\"intersects\", \"contains\", \"within\"`. The following [site](https://shapely.readthedocs.io/en/latest/manual.html#binary-predicates) by the developers of the `shapely` module describes the different types of spatial joins.   \n",
    "\n",
    "All three are unsuitable as the borders of each NTA and Census Tract do not line up **perfectly**. In other words there are some overlaps here and there which throw off the entire spatial join. Even if the borders line up perfectly, contiguity is an issue. In an `intersect`, it does not matter which side of the line an object is on as long as it touches the line unless a direction argument is available and specified, neither of which are available in this case. That is to say, tract i will be counted as part of both NTAs j and k as long as the border of tract i lines up along the border between NTAs j and k. I imagine common vertices count too. \n",
    "\n",
    "Hence, I had to use an equivalency table published by [NYC Planning](https://www1.nyc.gov/site/planning/data-maps/open-data/dwn-nynta.page) to map each census tract to the NTA code. This is done using the GEOID column which is common to both tables. The GEOID column in the equivalency table is a new column I created by concatenating State FIPS (36) with County FIPS and Tract ID \n",
    "in Excel before saving and exporting as a CSV. Some table structure cleaning was also performed in Excel prior.   "
   ]
  },
  {
   "cell_type": "code",
   "execution_count": 66,
   "metadata": {
    "scrolled": true
   },
   "outputs": [],
   "source": [
    "# Merging\n",
    "BK_NTA = BK.merge(NTA_census_tract_equivalency_table, left_on = 'ID', right_on = 'GEOID')\n",
    "\n",
    "# Reducing the width\n",
    "BK_NTA_reduced = BK_NTA.drop([\"GEOID_x\", \"Geography\", \"State FIPS\", \"County FIPS\", \"2010 Census Tract\", \"GEOID_y\", \"Borough\", \"ID\"], axis = 1)"
   ]
  },
  {
   "cell_type": "code",
   "execution_count": 67,
   "metadata": {},
   "outputs": [
    {
     "name": "stdout",
     "output_type": "stream",
     "text": [
      "Number of Census Tracts in newly merged file == Number of Census Tracts in Brooklyn? True\n"
     ]
    }
   ],
   "source": [
    "print(\"Number of Census Tracts in newly merged file == Number of Census Tracts in Brooklyn? \" + str(BK_NTA_reduced.shape[0] == BK.shape[0]))"
   ]
  },
  {
   "cell_type": "markdown",
   "metadata": {},
   "source": [
    "Okay so I have established that the merge ran smoothly with no duplications. The next thing to do is to run a summary function over the household income distribution columns that groups tracts by NTAs, summarize, and convert to percentages while keeping its geometry."
   ]
  },
  {
   "cell_type": "code",
   "execution_count": 102,
   "metadata": {},
   "outputs": [],
   "source": [
    "col_names = BK_NTA_reduced.columns\n",
    "#print(col_names)\n",
    "#print(BK_neighborhood_tabn_areas.head())"
   ]
  },
  {
   "cell_type": "code",
   "execution_count": 98,
   "metadata": {},
   "outputs": [],
   "source": [
    "# Group, rowsum, col div by only the income columns, retaining the absolute number of households per NTA\n",
    "BK_NTA_grouped = BK_NTA_reduced.groupby(by=col_names[10]).sum().iloc[:, 0:8]\n",
    "BK_NTA_grouped.iloc[:, 1:] = BK_NTA_grouped.iloc[:, 1:].div(BK_NTA_grouped.iloc[:, 1:].sum(axis=1), axis=0)\n",
    "\n",
    "# Merging with the BK NTA shp to get geometry that was lost with the merging, grouping and summary functions\n",
    "BK_NTA_grouped_pct = BK_neighborhood_tabn_areas.merge(BK_NTA_grouped, left_on = 'NTAName', right_index = True)"
   ]
  },
  {
   "cell_type": "code",
   "execution_count": 101,
   "metadata": {
    "scrolled": true
   },
   "outputs": [
    {
     "name": "stdout",
     "output_type": "stream",
     "text": [
      "Number of NTAs in Brookyln in the merged file: 51\n",
      "If there are 51, that means that the merge ran successfully.\n"
     ]
    }
   ],
   "source": [
    "print(\"Number of NTAs in Brookyln in the merged file: \" + str(BK_NTA_grouped_pct.shape[0]))\n",
    "print(\"If there are 51, that means that the merge ran successfully.\")"
   ]
  },
  {
   "cell_type": "code",
   "execution_count": 99,
   "metadata": {
    "scrolled": true
   },
   "outputs": [
    {
     "data": {
      "text/html": [
       "<div>\n",
       "<style scoped>\n",
       "    .dataframe tbody tr th:only-of-type {\n",
       "        vertical-align: middle;\n",
       "    }\n",
       "\n",
       "    .dataframe tbody tr th {\n",
       "        vertical-align: top;\n",
       "    }\n",
       "\n",
       "    .dataframe thead th {\n",
       "        text-align: right;\n",
       "    }\n",
       "</style>\n",
       "<table border=\"1\" class=\"dataframe\">\n",
       "  <thead>\n",
       "    <tr style=\"text-align: right;\">\n",
       "      <th></th>\n",
       "      <th>NTACode</th>\n",
       "      <th>NTAName</th>\n",
       "      <th>geometry</th>\n",
       "      <th>Households</th>\n",
       "      <th>0-25k</th>\n",
       "      <th>25k-50k</th>\n",
       "      <th>50k-75k</th>\n",
       "      <th>75k-100k</th>\n",
       "      <th>100k-125k</th>\n",
       "      <th>125k-150k</th>\n",
       "      <th>&gt; 150k</th>\n",
       "    </tr>\n",
       "  </thead>\n",
       "  <tbody>\n",
       "    <tr>\n",
       "      <th>0</th>\n",
       "      <td>BK88</td>\n",
       "      <td>Borough Park</td>\n",
       "      <td>POLYGON ((-73.97604935657382 40.63127590564677...</td>\n",
       "      <td>26710</td>\n",
       "      <td>0.331037</td>\n",
       "      <td>0.267802</td>\n",
       "      <td>0.132160</td>\n",
       "      <td>0.089292</td>\n",
       "      <td>0.063609</td>\n",
       "      <td>0.036541</td>\n",
       "      <td>0.079558</td>\n",
       "    </tr>\n",
       "    <tr>\n",
       "      <th>6</th>\n",
       "      <td>BK25</td>\n",
       "      <td>Homecrest</td>\n",
       "      <td>POLYGON ((-73.95859278495767 40.61040303093504...</td>\n",
       "      <td>15528</td>\n",
       "      <td>0.257664</td>\n",
       "      <td>0.217800</td>\n",
       "      <td>0.153916</td>\n",
       "      <td>0.103941</td>\n",
       "      <td>0.107290</td>\n",
       "      <td>0.042375</td>\n",
       "      <td>0.117014</td>\n",
       "    </tr>\n",
       "    <tr>\n",
       "      <th>12</th>\n",
       "      <td>BK44</td>\n",
       "      <td>Madison</td>\n",
       "      <td>POLYGON ((-73.93753749374042 40.60855739025752...</td>\n",
       "      <td>14900</td>\n",
       "      <td>0.214765</td>\n",
       "      <td>0.190805</td>\n",
       "      <td>0.166577</td>\n",
       "      <td>0.118658</td>\n",
       "      <td>0.100201</td>\n",
       "      <td>0.056711</td>\n",
       "      <td>0.152282</td>\n",
       "    </tr>\n",
       "    <tr>\n",
       "      <th>13</th>\n",
       "      <td>BK41</td>\n",
       "      <td>Kensington-Ocean Parkway</td>\n",
       "      <td>POLYGON ((-73.97084113663696 40.64637857107214...</td>\n",
       "      <td>12228</td>\n",
       "      <td>0.243785</td>\n",
       "      <td>0.219496</td>\n",
       "      <td>0.156117</td>\n",
       "      <td>0.131420</td>\n",
       "      <td>0.096418</td>\n",
       "      <td>0.053566</td>\n",
       "      <td>0.099199</td>\n",
       "    </tr>\n",
       "    <tr>\n",
       "      <th>14</th>\n",
       "      <td>BK95</td>\n",
       "      <td>Erasmus</td>\n",
       "      <td>POLYGON ((-73.94826499590911 40.63860718970649...</td>\n",
       "      <td>10137</td>\n",
       "      <td>0.271678</td>\n",
       "      <td>0.269212</td>\n",
       "      <td>0.163165</td>\n",
       "      <td>0.124593</td>\n",
       "      <td>0.061162</td>\n",
       "      <td>0.052086</td>\n",
       "      <td>0.058104</td>\n",
       "    </tr>\n",
       "  </tbody>\n",
       "</table>\n",
       "</div>"
      ],
      "text/plain": [
       "   NTACode                   NTAName  \\\n",
       "0     BK88              Borough Park   \n",
       "6     BK25                 Homecrest   \n",
       "12    BK44                   Madison   \n",
       "13    BK41  Kensington-Ocean Parkway   \n",
       "14    BK95                   Erasmus   \n",
       "\n",
       "                                             geometry  Households     0-25k  \\\n",
       "0   POLYGON ((-73.97604935657382 40.63127590564677...       26710  0.331037   \n",
       "6   POLYGON ((-73.95859278495767 40.61040303093504...       15528  0.257664   \n",
       "12  POLYGON ((-73.93753749374042 40.60855739025752...       14900  0.214765   \n",
       "13  POLYGON ((-73.97084113663696 40.64637857107214...       12228  0.243785   \n",
       "14  POLYGON ((-73.94826499590911 40.63860718970649...       10137  0.271678   \n",
       "\n",
       "     25k-50k   50k-75k  75k-100k  100k-125k  125k-150k    > 150k  \n",
       "0   0.267802  0.132160  0.089292   0.063609   0.036541  0.079558  \n",
       "6   0.217800  0.153916  0.103941   0.107290   0.042375  0.117014  \n",
       "12  0.190805  0.166577  0.118658   0.100201   0.056711  0.152282  \n",
       "13  0.219496  0.156117  0.131420   0.096418   0.053566  0.099199  \n",
       "14  0.269212  0.163165  0.124593   0.061162   0.052086  0.058104  "
      ]
     },
     "execution_count": 99,
     "metadata": {},
     "output_type": "execute_result"
    }
   ],
   "source": [
    "BK_NTA_grouped_pct.head()"
   ]
  },
  {
   "cell_type": "markdown",
   "metadata": {},
   "source": [
    "At this point, the ACS data have been successfully aggregated at the NTA scale. This means that we can now run spatial joins with the Yelp data to determine the NTA each restaurants falls into. "
   ]
  },
  {
   "cell_type": "code",
   "execution_count": 103,
   "metadata": {},
   "outputs": [
    {
     "data": {
      "text/html": [
       "<div>\n",
       "<style scoped>\n",
       "    .dataframe tbody tr th:only-of-type {\n",
       "        vertical-align: middle;\n",
       "    }\n",
       "\n",
       "    .dataframe tbody tr th {\n",
       "        vertical-align: top;\n",
       "    }\n",
       "\n",
       "    .dataframe thead th {\n",
       "        text-align: right;\n",
       "    }\n",
       "</style>\n",
       "<table border=\"1\" class=\"dataframe\">\n",
       "  <thead>\n",
       "    <tr style=\"text-align: right;\">\n",
       "      <th></th>\n",
       "      <th>id</th>\n",
       "      <th>alias</th>\n",
       "      <th>name</th>\n",
       "      <th>is_closed</th>\n",
       "      <th>review_cou</th>\n",
       "      <th>rating</th>\n",
       "      <th>price</th>\n",
       "      <th>categories</th>\n",
       "      <th>latitude</th>\n",
       "      <th>longitude</th>\n",
       "      <th>...</th>\n",
       "      <th>NTACode</th>\n",
       "      <th>NTAName</th>\n",
       "      <th>Households</th>\n",
       "      <th>0-25k</th>\n",
       "      <th>25k-50k</th>\n",
       "      <th>50k-75k</th>\n",
       "      <th>75k-100k</th>\n",
       "      <th>100k-125k</th>\n",
       "      <th>125k-150k</th>\n",
       "      <th>&gt; 150k</th>\n",
       "    </tr>\n",
       "  </thead>\n",
       "  <tbody>\n",
       "    <tr>\n",
       "      <th>0</th>\n",
       "      <td>6gzQLjzJk25ePm_JS7ZAug</td>\n",
       "      <td>esme-brooklyn-2</td>\n",
       "      <td>Esme</td>\n",
       "      <td>0</td>\n",
       "      <td>328</td>\n",
       "      <td>4.5</td>\n",
       "      <td>$$</td>\n",
       "      <td>newamerican|cocktailbars</td>\n",
       "      <td>40.733203</td>\n",
       "      <td>-73.954967</td>\n",
       "      <td>...</td>\n",
       "      <td>BK76</td>\n",
       "      <td>Greenpoint</td>\n",
       "      <td>16223</td>\n",
       "      <td>0.20021</td>\n",
       "      <td>0.136843</td>\n",
       "      <td>0.151883</td>\n",
       "      <td>0.13598</td>\n",
       "      <td>0.105529</td>\n",
       "      <td>0.086914</td>\n",
       "      <td>0.182642</td>\n",
       "    </tr>\n",
       "    <tr>\n",
       "      <th>1</th>\n",
       "      <td>Swjm9no7DRqhThLlf0EHng</td>\n",
       "      <td>sama-street-brooklyn-2</td>\n",
       "      <td>Sama Street</td>\n",
       "      <td>0</td>\n",
       "      <td>58</td>\n",
       "      <td>4.5</td>\n",
       "      <td>$$</td>\n",
       "      <td>cocktailbars|panasian|tapasmallplates</td>\n",
       "      <td>40.732870</td>\n",
       "      <td>-73.954480</td>\n",
       "      <td>...</td>\n",
       "      <td>BK76</td>\n",
       "      <td>Greenpoint</td>\n",
       "      <td>16223</td>\n",
       "      <td>0.20021</td>\n",
       "      <td>0.136843</td>\n",
       "      <td>0.151883</td>\n",
       "      <td>0.13598</td>\n",
       "      <td>0.105529</td>\n",
       "      <td>0.086914</td>\n",
       "      <td>0.182642</td>\n",
       "    </tr>\n",
       "  </tbody>\n",
       "</table>\n",
       "<p>2 rows × 27 columns</p>\n",
       "</div>"
      ],
      "text/plain": [
       "                       id                   alias         name  is_closed  \\\n",
       "0  6gzQLjzJk25ePm_JS7ZAug         esme-brooklyn-2         Esme          0   \n",
       "1  Swjm9no7DRqhThLlf0EHng  sama-street-brooklyn-2  Sama Street          0   \n",
       "\n",
       "   review_cou  rating price                             categories   latitude  \\\n",
       "0         328     4.5    $$               newamerican|cocktailbars  40.733203   \n",
       "1          58     4.5    $$  cocktailbars|panasian|tapasmallplates  40.732870   \n",
       "\n",
       "   longitude  ... NTACode     NTAName Households    0-25k   25k-50k   50k-75k  \\\n",
       "0 -73.954967  ...    BK76  Greenpoint      16223  0.20021  0.136843  0.151883   \n",
       "1 -73.954480  ...    BK76  Greenpoint      16223  0.20021  0.136843  0.151883   \n",
       "\n",
       "   75k-100k 100k-125k 125k-150k    > 150k  \n",
       "0   0.13598  0.105529  0.086914  0.182642  \n",
       "1   0.13598  0.105529  0.086914  0.182642  \n",
       "\n",
       "[2 rows x 27 columns]"
      ]
     },
     "execution_count": 103,
     "metadata": {},
     "output_type": "execute_result"
    }
   ],
   "source": [
    "# Spatial join for Yelp with Neighborhood Tabulation Area \n",
    "BK_NTA_Yelp_joined = gpd.sjoin(BK_Yelp, BK_NTA_grouped_pct, how = 'inner', op = 'within')\n",
    "\n",
    "BK_NTA_Yelp_joined.head(2)"
   ]
  },
  {
   "cell_type": "code",
   "execution_count": 105,
   "metadata": {},
   "outputs": [],
   "source": [
    "# Saving to file as .shp\n",
    "## Impt to set encoding = 'utf-8' or it will throw a codec error\n",
    "#MN_Yelp_NTA_joined.to_file(path_yelp + 'MN/MN_Yelp_CensusTract_NTA.shp', driver='ESRI Shapefile', encoding = 'utf-8')\n",
    "BK_NTA_Yelp_joined.to_file(path_yelp + 'BK/BK_Yelp_CensusTract_NTA.shp', driver='ESRI Shapefile', encoding = 'utf-8')"
   ]
  }
 ],
 "metadata": {
  "kernelspec": {
   "display_name": "Python 3",
   "language": "python",
   "name": "python3"
  },
  "language_info": {
   "codemirror_mode": {
    "name": "ipython",
    "version": 3
   },
   "file_extension": ".py",
   "mimetype": "text/x-python",
   "name": "python",
   "nbconvert_exporter": "python",
   "pygments_lexer": "ipython3",
   "version": "3.7.5"
  }
 },
 "nbformat": 4,
 "nbformat_minor": 2
}
