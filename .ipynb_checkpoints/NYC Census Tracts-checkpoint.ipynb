{
 "cells": [
  {
   "cell_type": "markdown",
   "metadata": {},
   "source": [
    "### Purposes\n",
    "1. Merge the 2017 ACS 5-year estimate household income distribution data with the 2019 TIGER/Line shapefile of Census Tracts in Brooklyn and Manhattan.\n",
    "2. Read in the Neighborhood Tabulation Area (NTA) data for use as a scale of geospatial analysis.\n",
    "3. Aggregate the 2017 5-year estimate household income distribution data at the NTA scale\n",
    "4. Read in the life expectancy data, aggregate, and merge at the NTA scale.\n",
    "5. Merge the two datasets above with the georeferenced Yelp data"
   ]
  },
  {
   "cell_type": "code",
   "execution_count": 51,
   "metadata": {},
   "outputs": [],
   "source": [
    "# Setting up modules\n",
    "import geopandas as gpd\n",
    "import numpy as np\n",
    "import pandas as pd\n",
    "import matplotlib.pylab as plt\n",
    "\n",
    "# Data path \n",
    "path_census_tracts = './data/ACS/'\n",
    "path_yelp = './data/Yelp/'"
   ]
  },
  {
   "cell_type": "code",
   "execution_count": 52,
   "metadata": {},
   "outputs": [],
   "source": [
    "# Import csvs\n",
    "BK_hh_income_dis_pct = pd.read_csv(path_census_tracts + 'BK_hh_income_dis_pct.csv')\n",
    "BK_hh_income_dis_count = pd.read_csv(path_census_tracts + \"BK_hh_income_dis_count.csv\")\n",
    "# BK_hh_income_dis_pct = pd.DataFrame(BK_hh_income_dis_pct)\n",
    "NTA_census_tract_equivalency_table = pd.read_csv(path_census_tracts + \"CensusTracts/nyc2010census_tabulation_equiv.csv\")\n",
    "MN_hh_income_dis_count_NTA = pd.read_csv(path_census_tracts + \"CensusTracts/ManhattanNTAIncomeDistribution.csv\")\n",
    "NYC_LifeExpectancy = pd.read_csv(path_census_tracts + \"CensusTracts/NYC_LifeExpectancy.csv\")\n",
    "\n",
    "# Import shps\n",
    "NY_state_census_tracts = gpd.read_file(path_census_tracts + \"CensusTracts/tl_2019_36_tract.shp\")\n",
    "MN_Yelp = gpd.read_file(path_yelp + \"MN/MN_Yelp.shp\")\n",
    "BK_Yelp = gpd.read_file(path_yelp + \"BK/BK_Yelp.shp\")\n",
    "NYC_neighborhood_tabn_areas = gpd.read_file(path_census_tracts + \"CensusTracts/nynta_reproj.shp\")"
   ]
  },
  {
   "cell_type": "code",
   "execution_count": 53,
   "metadata": {},
   "outputs": [],
   "source": [
    "# Check \n",
    "#MN_hh_income_dis_count_NTA.head()"
   ]
  },
  {
   "cell_type": "code",
   "execution_count": 54,
   "metadata": {},
   "outputs": [],
   "source": [
    "# Check\n",
    "#BK_hh_income_dis_count.head()"
   ]
  },
  {
   "cell_type": "code",
   "execution_count": 55,
   "metadata": {},
   "outputs": [],
   "source": [
    "# Check\n",
    "#NYC_LifeExpectancy.head()"
   ]
  },
  {
   "cell_type": "markdown",
   "metadata": {},
   "source": [
    "The histogram of projected life expectancy across NYC's census tracts suggest that it is normally distributed with no skew. I know it is problematic to assume that the distribution of life expectancy in each NTA's census tracts is not skewed but there are not enough census tracts per NTA to create a meaningful histogram anyway. "
   ]
  },
  {
   "cell_type": "code",
   "execution_count": 56,
   "metadata": {},
   "outputs": [
    {
     "data": {
      "text/plain": [
       "Text(0.5, 1.0, 'Distribution of Life Expectancy across NYC Census Tracts')"
      ]
     },
     "execution_count": 56,
     "metadata": {},
     "output_type": "execute_result"
    },
    {
     "data": {
      "image/png": "[encoded data removed]",
      "text/plain": [
       "<Figure size 432x288 with 1 Axes>"
      ]
     },
     "metadata": {
      "needs_background": "light"
     },
     "output_type": "display_data"
    }
   ],
   "source": [
    "plt.hist(NYC_LifeExpectancy.iloc[:,4])\n",
    "plt.title(\"Distribution of Life Expectancy across NYC Census Tracts\")"
   ]
  },
  {
   "cell_type": "code",
   "execution_count": 57,
   "metadata": {},
   "outputs": [],
   "source": [
    "# Group by NTA to get mean life expectancy for each NTA\n",
    "NTA_census_tract_life_expectancy = NTA_census_tract_equivalency_table.merge(NYC_LifeExpectancy, left_on = \"GEOID\", right_on = \"Tract ID\")\n",
    "NTA_census_tract_life_expectancy = NTA_census_tract_life_expectancy[[\"NTA Code\", \"e(0)\"]]\n",
    "NTA_mean_life_expectancy = NTA_census_tract_life_expectancy.groupby(by = \"NTA Code\").mean()\n",
    "NTA_mean_life_expectancy.rename(columns={\"e(0)\": \"MeanLifeExp\"}, inplace = True)"
   ]
  },
  {
   "cell_type": "code",
   "execution_count": 58,
   "metadata": {},
   "outputs": [],
   "source": [
    "# NTA_mean_life_expectancy.head()"
   ]
  },
  {
   "cell_type": "code",
   "execution_count": 59,
   "metadata": {},
   "outputs": [],
   "source": [
    "# Filter for NYC (Manhattan and Brooklyn)\n",
    "\n",
    "BK = NY_state_census_tracts[NY_state_census_tracts[\"COUNTYFP\"] == '047']\n",
    "MN = NY_state_census_tracts[NY_state_census_tracts[\"COUNTYFP\"] == '061']\n",
    "BK_neighborhood_tabn_areas = NYC_neighborhood_tabn_areas[NYC_neighborhood_tabn_areas[\"BoroName\"] == \"Brooklyn\"]\n",
    "MN_neighborhood_tabn_areas = NYC_neighborhood_tabn_areas[NYC_neighborhood_tabn_areas[\"BoroName\"] == \"Manhattan\"]\n",
    "\n",
    "# Cutting out all of the crap\n",
    "MN = MN[[\"GEOID\", \"geometry\"]]\n",
    "BK = BK[[\"GEOID\", \"geometry\"]]\n",
    "BK_neighborhood_tabn_areas = BK_neighborhood_tabn_areas[[\"NTACode\", \"NTAName\", \"geometry\"]]\n",
    "MN_neighborhood_tabn_areas = MN_neighborhood_tabn_areas[[\"NTACode\", \"NTAName\", \"geometry\"]]\n",
    "\n",
    "# Converting type of column\n",
    "# int wont work because it is too long\n",
    "BK.GEOID = BK.GEOID.astype(float)\n",
    "\n",
    "# Merging to get income distribution for each census tract\n",
    "BK = BK.merge(BK_hh_income_dis_count, left_on = 'GEOID', right_on = 'ID')"
   ]
  },
  {
   "cell_type": "code",
   "execution_count": 60,
   "metadata": {},
   "outputs": [
    {
     "data": {
      "text/html": [
       "<div>\n",
       "<style scoped>\n",
       "    .dataframe tbody tr th:only-of-type {\n",
       "        vertical-align: middle;\n",
       "    }\n",
       "\n",
       "    .dataframe tbody tr th {\n",
       "        vertical-align: top;\n",
       "    }\n",
       "\n",
       "    .dataframe thead th {\n",
       "        text-align: right;\n",
       "    }\n",
       "</style>\n",
       "<table border=\"1\" class=\"dataframe\">\n",
       "  <thead>\n",
       "    <tr style=\"text-align: right;\">\n",
       "      <th></th>\n",
       "      <th>GEOID</th>\n",
       "      <th>geometry</th>\n",
       "      <th>ID</th>\n",
       "      <th>Geography</th>\n",
       "      <th>Households</th>\n",
       "      <th>0-25k</th>\n",
       "      <th>25k-50k</th>\n",
       "      <th>50k-75k</th>\n",
       "      <th>75k-100k</th>\n",
       "      <th>100k-125k</th>\n",
       "      <th>125k-150k</th>\n",
       "      <th>&gt; 150k</th>\n",
       "    </tr>\n",
       "  </thead>\n",
       "  <tbody>\n",
       "    <tr>\n",
       "      <th>0</th>\n",
       "      <td>3.604701e+10</td>\n",
       "      <td>POLYGON ((-74.048937 40.662702, -74.04822 40.6...</td>\n",
       "      <td>36047005300</td>\n",
       "      <td>Census Tract 53, Kings County, New York</td>\n",
       "      <td>954</td>\n",
       "      <td>209</td>\n",
       "      <td>100</td>\n",
       "      <td>104</td>\n",
       "      <td>111</td>\n",
       "      <td>130</td>\n",
       "      <td>40</td>\n",
       "      <td>260</td>\n",
       "    </tr>\n",
       "    <tr>\n",
       "      <th>1</th>\n",
       "      <td>3.604701e+10</td>\n",
       "      <td>POLYGON ((-74.02291 40.636108, -74.022626 40.6...</td>\n",
       "      <td>36047012600</td>\n",
       "      <td>Census Tract 126, Kings County, New York</td>\n",
       "      <td>895</td>\n",
       "      <td>236</td>\n",
       "      <td>227</td>\n",
       "      <td>128</td>\n",
       "      <td>116</td>\n",
       "      <td>63</td>\n",
       "      <td>24</td>\n",
       "      <td>101</td>\n",
       "    </tr>\n",
       "    <tr>\n",
       "      <th>2</th>\n",
       "      <td>3.604703e+10</td>\n",
       "      <td>POLYGON ((-73.944048 40.679336, -73.943973 40....</td>\n",
       "      <td>36047027100</td>\n",
       "      <td>Census Tract 271, Kings County, New York</td>\n",
       "      <td>1130</td>\n",
       "      <td>331</td>\n",
       "      <td>315</td>\n",
       "      <td>142</td>\n",
       "      <td>37</td>\n",
       "      <td>77</td>\n",
       "      <td>95</td>\n",
       "      <td>133</td>\n",
       "    </tr>\n",
       "    <tr>\n",
       "      <th>3</th>\n",
       "      <td>3.604703e+10</td>\n",
       "      <td>POLYGON ((-73.990679 40.58006, -73.988237 40.5...</td>\n",
       "      <td>36047034800</td>\n",
       "      <td>Census Tract 348, Kings County, New York</td>\n",
       "      <td>783</td>\n",
       "      <td>213</td>\n",
       "      <td>156</td>\n",
       "      <td>128</td>\n",
       "      <td>134</td>\n",
       "      <td>107</td>\n",
       "      <td>19</td>\n",
       "      <td>26</td>\n",
       "    </tr>\n",
       "    <tr>\n",
       "      <th>4</th>\n",
       "      <td>3.604704e+10</td>\n",
       "      <td>POLYGON ((-73.94109399999999 40.722309, -73.94...</td>\n",
       "      <td>36047044900</td>\n",
       "      <td>Census Tract 449, Kings County, New York</td>\n",
       "      <td>1126</td>\n",
       "      <td>532</td>\n",
       "      <td>204</td>\n",
       "      <td>135</td>\n",
       "      <td>108</td>\n",
       "      <td>87</td>\n",
       "      <td>36</td>\n",
       "      <td>24</td>\n",
       "    </tr>\n",
       "  </tbody>\n",
       "</table>\n",
       "</div>"
      ],
      "text/plain": [
       "          GEOID                                           geometry  \\\n",
       "0  3.604701e+10  POLYGON ((-74.048937 40.662702, -74.04822 40.6...   \n",
       "1  3.604701e+10  POLYGON ((-74.02291 40.636108, -74.022626 40.6...   \n",
       "2  3.604703e+10  POLYGON ((-73.944048 40.679336, -73.943973 40....   \n",
       "3  3.604703e+10  POLYGON ((-73.990679 40.58006, -73.988237 40.5...   \n",
       "4  3.604704e+10  POLYGON ((-73.94109399999999 40.722309, -73.94...   \n",
       "\n",
       "            ID                                 Geography  Households  0-25k  \\\n",
       "0  36047005300   Census Tract 53, Kings County, New York         954    209   \n",
       "1  36047012600  Census Tract 126, Kings County, New York         895    236   \n",
       "2  36047027100  Census Tract 271, Kings County, New York        1130    331   \n",
       "3  36047034800  Census Tract 348, Kings County, New York         783    213   \n",
       "4  36047044900  Census Tract 449, Kings County, New York        1126    532   \n",
       "\n",
       "   25k-50k  50k-75k  75k-100k  100k-125k  125k-150k  > 150k  \n",
       "0      100      104       111        130         40     260  \n",
       "1      227      128       116         63         24     101  \n",
       "2      315      142        37         77         95     133  \n",
       "3      156      128       134        107         19      26  \n",
       "4      204      135       108         87         36      24  "
      ]
     },
     "execution_count": 60,
     "metadata": {},
     "output_type": "execute_result"
    }
   ],
   "source": [
    "BK.head()"
   ]
  },
  {
   "cell_type": "code",
   "execution_count": 61,
   "metadata": {},
   "outputs": [
    {
     "name": "stdout",
     "output_type": "stream",
     "text": [
      "True\n",
      "True\n"
     ]
    }
   ],
   "source": [
    "# Reprojecting the BK_NTA file\n",
    "#BK_neighborhood_tabn_areas.crs = {'init': 'epsg:4269'}\n",
    "#MN_neighborhood_tabn_areas.crs = {'init': 'epsg:4269'}\n",
    "\n",
    "# Are the CRSes identical?\n",
    "print(BK.crs == BK_Yelp.crs)\n",
    "print(BK.crs == BK_neighborhood_tabn_areas.crs)"
   ]
  },
  {
   "cell_type": "markdown",
   "metadata": {},
   "source": [
    "At this point, we have a slight issue. The ACS data is collected at the Census tract level. We know that NTAs' borders line up perfectly with that of the census tracts. However, there is no column within the NTA shapefile that tells us which tracts each NTA is made up of. Hence, we need to perform a spatial join with the Brooklyn census tract file to create a column that identifies which NTA each tract belongs to so as to facilitate grouping and summary statistics. "
   ]
  },
  {
   "cell_type": "code",
   "execution_count": 62,
   "metadata": {},
   "outputs": [],
   "source": [
    "# Spatial join for Brooklyn ACS Census Tract with NTA\n",
    "##BK_ct_NTA_joined = gpd.sjoin(BK, BK_neighborhood_tabn_areas, how = \"inner\", op = \"intersects\")\n",
    "##BK_ct_NTA_joined = BK_ct_NTA_joined.drop(columns = [\"ID\",\"Geography\", \"index_right\"])"
   ]
  },
  {
   "cell_type": "code",
   "execution_count": 63,
   "metadata": {},
   "outputs": [],
   "source": [
    "##print(\"Number of census tracts in Brooklyn: \" + str(BK.shape[0]))\n",
    "##print(\"Number of NTAs in Brooklyn: \" + str(BK_neighborhood_tabn_areas.shape[0]))\n",
    "# Select all duplicate rows based on one column\n",
    "##duplicate_rows_bk_df = BK_ct_NTA_joined[BK_ct_NTA_joined.duplicated(subset = ['GEOID'])]\n",
    "##print(\"Number of duplicate rows based on GEOID post-spatial join: \" +  str(duplicate_rows_bk_df.shape[0]))"
   ]
  },
  {
   "cell_type": "markdown",
   "metadata": {
    "slideshow": {
     "slide_type": "slide"
    }
   },
   "source": [
    "Ideally, and more simply, I would do a spatial join as shown above between the NTA and Census Tract shapefiles to determine the NTA each census tract falls into. However, as the print-out above shows, there are multiple duplication of rows post spatial join. Why? The `op` argument in `gpd.sjoin` accepts one of three values: `\"intersects\", \"contains\", \"within\"`. The following [site](https://shapely.readthedocs.io/en/latest/manual.html#binary-predicates) by the developers of the `shapely` module describes the different types of spatial joins.   \n",
    "\n",
    "All three are unsuitable as the borders of each NTA and Census Tract do not line up **perfectly**. In other words there are some overlaps here and there which throw off the entire spatial join. Even if the borders line up perfectly, contiguity is an issue. In an `intersect`, it does not matter which side of the line an object is on as long as it touches the line unless a direction argument is available and specified, neither of which are available in this case. That is to say, tract i will be counted as part of both NTAs j and k as long as the border of tract i lines up along the border between NTAs j and k. I imagine common vertices count too. \n",
    "\n",
    "Hence, I had to use an equivalency table published by [NYC Planning](https://www1.nyc.gov/site/planning/data-maps/open-data/dwn-nynta.page) to map each census tract to the NTA code. This is done using the GEOID column which is common to both tables. The GEOID column in the equivalency table is a new column I created by concatenating State FIPS (36) with County FIPS and Tract ID \n",
    "in Excel before saving and exporting as a CSV. Some table structure cleaning was also performed in Excel prior.   "
   ]
  },
  {
   "cell_type": "code",
   "execution_count": 64,
   "metadata": {
    "scrolled": true
   },
   "outputs": [],
   "source": [
    "# Merging\n",
    "BK_NTA = BK.merge(NTA_census_tract_equivalency_table, left_on = 'ID', right_on = 'GEOID')\n",
    "\n",
    "\n",
    "# Reducing the width\n",
    "BK_NTA_reduced = BK_NTA.drop([\"GEOID_x\", \"Geography\", \"State FIPS\", \"County FIPS\", \"2010 Census Tract\", \"GEOID_y\", \"Borough\", \"ID\"], axis = 1)"
   ]
  },
  {
   "cell_type": "code",
   "execution_count": 65,
   "metadata": {},
   "outputs": [
    {
     "name": "stdout",
     "output_type": "stream",
     "text": [
      "Number of Census Tracts in newly merged file == Number of Census Tracts in Brooklyn? True\n"
     ]
    }
   ],
   "source": [
    "print(\"Number of Census Tracts in newly merged file == Number of Census Tracts in Brooklyn? \" + str(BK_NTA_reduced.shape[0] == BK.shape[0]))"
   ]
  },
  {
   "cell_type": "markdown",
   "metadata": {},
   "source": [
    "Okay so I have established that the merge ran smoothly with no duplications. The next thing to do is to run a summary function over the household income distribution columns that groups tracts by NTAs, summarize, and convert to percentages while keeping its geometry."
   ]
  },
  {
   "cell_type": "code",
   "execution_count": 66,
   "metadata": {},
   "outputs": [],
   "source": [
    "col_names = BK_NTA_reduced.columns\n",
    "#print(col_names)\n",
    "#print(BK_neighborhood_tabn_areas.head())"
   ]
  },
  {
   "cell_type": "code",
   "execution_count": 67,
   "metadata": {},
   "outputs": [
    {
     "data": {
      "text/html": [
       "<div>\n",
       "<style scoped>\n",
       "    .dataframe tbody tr th:only-of-type {\n",
       "        vertical-align: middle;\n",
       "    }\n",
       "\n",
       "    .dataframe tbody tr th {\n",
       "        vertical-align: top;\n",
       "    }\n",
       "\n",
       "    .dataframe thead th {\n",
       "        text-align: right;\n",
       "    }\n",
       "</style>\n",
       "<table border=\"1\" class=\"dataframe\">\n",
       "  <thead>\n",
       "    <tr style=\"text-align: right;\">\n",
       "      <th></th>\n",
       "      <th>NTACode</th>\n",
       "      <th>NTAName</th>\n",
       "      <th>geometry</th>\n",
       "    </tr>\n",
       "  </thead>\n",
       "  <tbody>\n",
       "    <tr>\n",
       "      <th>4</th>\n",
       "      <td>MN06</td>\n",
       "      <td>Manhattanville</td>\n",
       "      <td>POLYGON ((-73.94607828608069 40.8212632160616,...</td>\n",
       "    </tr>\n",
       "    <tr>\n",
       "      <th>49</th>\n",
       "      <td>MN15</td>\n",
       "      <td>Clinton</td>\n",
       "      <td>POLYGON ((-73.99383108070876 40.77293178785057...</td>\n",
       "    </tr>\n",
       "    <tr>\n",
       "      <th>82</th>\n",
       "      <td>MN27</td>\n",
       "      <td>Chinatown</td>\n",
       "      <td>POLYGON ((-73.9838238729819 40.72147287206688,...</td>\n",
       "    </tr>\n",
       "    <tr>\n",
       "      <th>84</th>\n",
       "      <td>MN25</td>\n",
       "      <td>Battery Park City-Lower Manhattan</td>\n",
       "      <td>(POLYGON ((-74.00078295209646 40.6942865161671...</td>\n",
       "    </tr>\n",
       "    <tr>\n",
       "      <th>86</th>\n",
       "      <td>MN14</td>\n",
       "      <td>Lincoln Square</td>\n",
       "      <td>POLYGON ((-73.97500111964057 40.77752777991669...</td>\n",
       "    </tr>\n",
       "  </tbody>\n",
       "</table>\n",
       "</div>"
      ],
      "text/plain": [
       "   NTACode                            NTAName  \\\n",
       "4     MN06                     Manhattanville   \n",
       "49    MN15                            Clinton   \n",
       "82    MN27                          Chinatown   \n",
       "84    MN25  Battery Park City-Lower Manhattan   \n",
       "86    MN14                     Lincoln Square   \n",
       "\n",
       "                                             geometry  \n",
       "4   POLYGON ((-73.94607828608069 40.8212632160616,...  \n",
       "49  POLYGON ((-73.99383108070876 40.77293178785057...  \n",
       "82  POLYGON ((-73.9838238729819 40.72147287206688,...  \n",
       "84  (POLYGON ((-74.00078295209646 40.6942865161671...  \n",
       "86  POLYGON ((-73.97500111964057 40.77752777991669...  "
      ]
     },
     "execution_count": 67,
     "metadata": {},
     "output_type": "execute_result"
    }
   ],
   "source": [
    "MN_neighborhood_tabn_areas.head()"
   ]
  },
  {
   "cell_type": "code",
   "execution_count": 68,
   "metadata": {},
   "outputs": [],
   "source": [
    "# Group, rowsum, col div by only the income columns, retaining the absolute number of households per NTA\n",
    "BK_NTA_grouped = BK_NTA_reduced.groupby(by=col_names[10]).sum().iloc[:, 0:8]\n",
    "BK_NTA_grouped.iloc[:, 1:] = BK_NTA_grouped.iloc[:, 1:].div(BK_NTA_grouped.iloc[:, 1:].sum(axis=1), axis=0)\n",
    "\n",
    "# Merging with the BK NTA shp to get geometry that was lost with the merging, grouping and summary functions\n",
    "BK_NTA_grouped_pct = BK_neighborhood_tabn_areas.merge(BK_NTA_grouped, left_on = 'NTAName', right_index = True)\n",
    "MN_NTA_grouped_pct = MN_neighborhood_tabn_areas.merge(MN_hh_income_dis_count_NTA, left_on = \"NTACode\", right_on = \"NTA_CODE\" )\n",
    "\n",
    "# Drop duplicated NTA_CODE column for MN\n",
    "MN_NTA_grouped_pct.drop([\"NTA_CODE\"], axis = 1, inplace = True)\n",
    "\n",
    "# Merge Life Expectancy with NTA Dataset\n",
    "BK_NTA_grouped_pct = BK_NTA_grouped_pct.merge(NTA_mean_life_expectancy, left_on = \"NTACode\", right_index = True)\n",
    "MN_NTA_grouped_pct = MN_NTA_grouped_pct.merge(NTA_mean_life_expectancy, left_on = \"NTACode\", right_index = True)"
   ]
  },
  {
   "cell_type": "code",
   "execution_count": 69,
   "metadata": {
    "scrolled": true
   },
   "outputs": [
    {
     "name": "stdout",
     "output_type": "stream",
     "text": [
      "Number of NTAs in Brookyln in the merged file: 50\n",
      "If there are 51, that means that the merge ran successfully.\n"
     ]
    }
   ],
   "source": [
    "print(\"Number of NTAs in Brookyln in the merged file: \" + str(BK_NTA_grouped_pct.shape[0]))\n",
    "print(\"If there are 51, that means that the merge ran successfully.\")"
   ]
  },
  {
   "cell_type": "code",
   "execution_count": 70,
   "metadata": {
    "scrolled": true
   },
   "outputs": [
    {
     "data": {
      "text/html": [
       "<div>\n",
       "<style scoped>\n",
       "    .dataframe tbody tr th:only-of-type {\n",
       "        vertical-align: middle;\n",
       "    }\n",
       "\n",
       "    .dataframe tbody tr th {\n",
       "        vertical-align: top;\n",
       "    }\n",
       "\n",
       "    .dataframe thead th {\n",
       "        text-align: right;\n",
       "    }\n",
       "</style>\n",
       "<table border=\"1\" class=\"dataframe\">\n",
       "  <thead>\n",
       "    <tr style=\"text-align: right;\">\n",
       "      <th></th>\n",
       "      <th>NTACode</th>\n",
       "      <th>NTAName</th>\n",
       "      <th>geometry</th>\n",
       "      <th>0-25k</th>\n",
       "      <th>25-50k</th>\n",
       "      <th>50-75k</th>\n",
       "      <th>75-100k</th>\n",
       "      <th>100-125k</th>\n",
       "      <th>125-150k</th>\n",
       "      <th>&gt; 150k</th>\n",
       "      <th>MeanLifeExp</th>\n",
       "    </tr>\n",
       "  </thead>\n",
       "  <tbody>\n",
       "    <tr>\n",
       "      <th>0</th>\n",
       "      <td>MN06</td>\n",
       "      <td>Manhattanville</td>\n",
       "      <td>POLYGON ((-73.94607828608069 40.8212632160616,...</td>\n",
       "      <td>0.41</td>\n",
       "      <td>0.25</td>\n",
       "      <td>0.11</td>\n",
       "      <td>0.08</td>\n",
       "      <td>0.06</td>\n",
       "      <td>0.03</td>\n",
       "      <td>0.05</td>\n",
       "      <td>79.975000</td>\n",
       "    </tr>\n",
       "    <tr>\n",
       "      <th>1</th>\n",
       "      <td>MN15</td>\n",
       "      <td>Clinton</td>\n",
       "      <td>POLYGON ((-73.99383108070876 40.77293178785057...</td>\n",
       "      <td>0.19</td>\n",
       "      <td>0.15</td>\n",
       "      <td>0.10</td>\n",
       "      <td>0.11</td>\n",
       "      <td>0.10</td>\n",
       "      <td>0.07</td>\n",
       "      <td>0.29</td>\n",
       "      <td>81.766667</td>\n",
       "    </tr>\n",
       "    <tr>\n",
       "      <th>2</th>\n",
       "      <td>MN27</td>\n",
       "      <td>Chinatown</td>\n",
       "      <td>POLYGON ((-73.9838238729819 40.72147287206688,...</td>\n",
       "      <td>0.38</td>\n",
       "      <td>0.19</td>\n",
       "      <td>0.13</td>\n",
       "      <td>0.10</td>\n",
       "      <td>0.05</td>\n",
       "      <td>0.04</td>\n",
       "      <td>0.12</td>\n",
       "      <td>82.900000</td>\n",
       "    </tr>\n",
       "    <tr>\n",
       "      <th>3</th>\n",
       "      <td>MN25</td>\n",
       "      <td>Battery Park City-Lower Manhattan</td>\n",
       "      <td>(POLYGON ((-74.00078295209646 40.6942865161671...</td>\n",
       "      <td>0.11</td>\n",
       "      <td>0.06</td>\n",
       "      <td>0.07</td>\n",
       "      <td>0.08</td>\n",
       "      <td>0.11</td>\n",
       "      <td>0.08</td>\n",
       "      <td>0.50</td>\n",
       "      <td>83.866667</td>\n",
       "    </tr>\n",
       "    <tr>\n",
       "      <th>4</th>\n",
       "      <td>MN14</td>\n",
       "      <td>Lincoln Square</td>\n",
       "      <td>POLYGON ((-73.97500111964057 40.77752777991669...</td>\n",
       "      <td>0.14</td>\n",
       "      <td>0.08</td>\n",
       "      <td>0.09</td>\n",
       "      <td>0.10</td>\n",
       "      <td>0.08</td>\n",
       "      <td>0.07</td>\n",
       "      <td>0.44</td>\n",
       "      <td>86.942857</td>\n",
       "    </tr>\n",
       "  </tbody>\n",
       "</table>\n",
       "</div>"
      ],
      "text/plain": [
       "  NTACode                            NTAName  \\\n",
       "0    MN06                     Manhattanville   \n",
       "1    MN15                            Clinton   \n",
       "2    MN27                          Chinatown   \n",
       "3    MN25  Battery Park City-Lower Manhattan   \n",
       "4    MN14                     Lincoln Square   \n",
       "\n",
       "                                            geometry  0-25k  25-50k  50-75k  \\\n",
       "0  POLYGON ((-73.94607828608069 40.8212632160616,...   0.41    0.25    0.11   \n",
       "1  POLYGON ((-73.99383108070876 40.77293178785057...   0.19    0.15    0.10   \n",
       "2  POLYGON ((-73.9838238729819 40.72147287206688,...   0.38    0.19    0.13   \n",
       "3  (POLYGON ((-74.00078295209646 40.6942865161671...   0.11    0.06    0.07   \n",
       "4  POLYGON ((-73.97500111964057 40.77752777991669...   0.14    0.08    0.09   \n",
       "\n",
       "   75-100k  100-125k  125-150k  > 150k  MeanLifeExp  \n",
       "0     0.08      0.06      0.03    0.05    79.975000  \n",
       "1     0.11      0.10      0.07    0.29    81.766667  \n",
       "2     0.10      0.05      0.04    0.12    82.900000  \n",
       "3     0.08      0.11      0.08    0.50    83.866667  \n",
       "4     0.10      0.08      0.07    0.44    86.942857  "
      ]
     },
     "execution_count": 70,
     "metadata": {},
     "output_type": "execute_result"
    }
   ],
   "source": [
    "MN_NTA_grouped_pct.head()"
   ]
  },
  {
   "cell_type": "markdown",
   "metadata": {},
   "source": [
    "At this point, the ACS data have been successfully aggregated at the NTA scale. This means that we can now run spatial joins with the Yelp data to determine the NTA each restaurants falls into. "
   ]
  },
  {
   "cell_type": "code",
   "execution_count": 71,
   "metadata": {},
   "outputs": [
    {
     "data": {
      "text/html": [
       "<div>\n",
       "<style scoped>\n",
       "    .dataframe tbody tr th:only-of-type {\n",
       "        vertical-align: middle;\n",
       "    }\n",
       "\n",
       "    .dataframe tbody tr th {\n",
       "        vertical-align: top;\n",
       "    }\n",
       "\n",
       "    .dataframe thead th {\n",
       "        text-align: right;\n",
       "    }\n",
       "</style>\n",
       "<table border=\"1\" class=\"dataframe\">\n",
       "  <thead>\n",
       "    <tr style=\"text-align: right;\">\n",
       "      <th></th>\n",
       "      <th>id</th>\n",
       "      <th>alias</th>\n",
       "      <th>name</th>\n",
       "      <th>is_closed</th>\n",
       "      <th>review_cou</th>\n",
       "      <th>rating</th>\n",
       "      <th>price</th>\n",
       "      <th>categories</th>\n",
       "      <th>latitude</th>\n",
       "      <th>longitude</th>\n",
       "      <th>...</th>\n",
       "      <th>NTACode</th>\n",
       "      <th>NTAName</th>\n",
       "      <th>0-25k</th>\n",
       "      <th>25-50k</th>\n",
       "      <th>50-75k</th>\n",
       "      <th>75-100k</th>\n",
       "      <th>100-125k</th>\n",
       "      <th>125-150k</th>\n",
       "      <th>&gt; 150k</th>\n",
       "      <th>MeanLifeExp</th>\n",
       "    </tr>\n",
       "  </thead>\n",
       "  <tbody>\n",
       "    <tr>\n",
       "      <th>0</th>\n",
       "      <td>ksksxd8J2SIs97ccPFV75A</td>\n",
       "      <td>brown-sugar-restaurant-new-york</td>\n",
       "      <td>Brown Sugar Restaurant</td>\n",
       "      <td>0</td>\n",
       "      <td>204</td>\n",
       "      <td>3.5</td>\n",
       "      <td>$$</td>\n",
       "      <td>cuban,seafood,steak</td>\n",
       "      <td>40.869926</td>\n",
       "      <td>-73.915466</td>\n",
       "      <td>...</td>\n",
       "      <td>MN01</td>\n",
       "      <td>Marble Hill-Inwood</td>\n",
       "      <td>0.32</td>\n",
       "      <td>0.21</td>\n",
       "      <td>0.15</td>\n",
       "      <td>0.14</td>\n",
       "      <td>0.07</td>\n",
       "      <td>0.04</td>\n",
       "      <td>0.07</td>\n",
       "      <td>84.028571</td>\n",
       "    </tr>\n",
       "    <tr>\n",
       "      <th>1</th>\n",
       "      <td>IHGm6huN_Z48KdorBjztSQ</td>\n",
       "      <td>guacamole-taqueria-new-york</td>\n",
       "      <td>Guacamole Taqueria</td>\n",
       "      <td>0</td>\n",
       "      <td>122</td>\n",
       "      <td>3.5</td>\n",
       "      <td>$$</td>\n",
       "      <td>mexican</td>\n",
       "      <td>40.869520</td>\n",
       "      <td>-73.916740</td>\n",
       "      <td>...</td>\n",
       "      <td>MN01</td>\n",
       "      <td>Marble Hill-Inwood</td>\n",
       "      <td>0.32</td>\n",
       "      <td>0.21</td>\n",
       "      <td>0.15</td>\n",
       "      <td>0.14</td>\n",
       "      <td>0.07</td>\n",
       "      <td>0.04</td>\n",
       "      <td>0.07</td>\n",
       "      <td>84.028571</td>\n",
       "    </tr>\n",
       "  </tbody>\n",
       "</table>\n",
       "<p>2 rows × 27 columns</p>\n",
       "</div>"
      ],
      "text/plain": [
       "                       id                            alias  \\\n",
       "0  ksksxd8J2SIs97ccPFV75A  brown-sugar-restaurant-new-york   \n",
       "1  IHGm6huN_Z48KdorBjztSQ      guacamole-taqueria-new-york   \n",
       "\n",
       "                     name  is_closed  review_cou  rating price  \\\n",
       "0  Brown Sugar Restaurant          0         204     3.5    $$   \n",
       "1      Guacamole Taqueria          0         122     3.5    $$   \n",
       "\n",
       "            categories   latitude  longitude  ... NTACode             NTAName  \\\n",
       "0  cuban,seafood,steak  40.869926 -73.915466  ...    MN01  Marble Hill-Inwood   \n",
       "1              mexican  40.869520 -73.916740  ...    MN01  Marble Hill-Inwood   \n",
       "\n",
       "  0-25k 25-50k 50-75k 75-100k  100-125k 125-150k > 150k  MeanLifeExp  \n",
       "0  0.32   0.21   0.15    0.14      0.07     0.04   0.07    84.028571  \n",
       "1  0.32   0.21   0.15    0.14      0.07     0.04   0.07    84.028571  \n",
       "\n",
       "[2 rows x 27 columns]"
      ]
     },
     "execution_count": 71,
     "metadata": {},
     "output_type": "execute_result"
    }
   ],
   "source": [
    "# Spatial join for Yelp with Neighborhood Tabulation Area \n",
    "BK_NTA_Yelp_joined = gpd.sjoin(BK_Yelp, BK_NTA_grouped_pct, how = 'inner', op = 'within')\n",
    "MN_NTA_Yelp_joined = gpd.sjoin(MN_Yelp, MN_NTA_grouped_pct, how = \"inner\", op = \"within\")\n",
    "\n",
    "MN_NTA_Yelp_joined.head(2)"
   ]
  },
  {
   "cell_type": "code",
   "execution_count": 72,
   "metadata": {},
   "outputs": [],
   "source": [
    "# Saving to file as .shp\n",
    "## Impt to set encoding = 'utf-8' or it will throw a codec error\n",
    "#MN_Yelp_NTA_joined.to_file(path_yelp + 'MN/MN_Yelp_CensusTract_NTA.shp', driver='ESRI Shapefile', encoding = 'utf-8')\n",
    "BK_NTA_Yelp_joined.to_file(path_yelp + 'BK/BK_Yelp_CensusTract_NTA.shp', driver='ESRI Shapefile', encoding = 'utf-8')\n",
    "MN_NTA_Yelp_joined.to_file(path_yelp + 'MN/MN_Yelp_CensusTract_NTA.shp', driver='ESRI Shapefile', encoding = 'utf-8')\n",
    "\n",
    "# Saving to file as .csv\n",
    "# First have to drop geometry\n",
    "MN_NTA_grouped_pct = MN_NTA_grouped_pct.drop([\"geometry\"], axis = 1)\n",
    "BK_NTA_grouped_pct = BK_NTA_grouped_pct.drop([\"geometry\"], axis = 1)\n",
    "BK_NTA_grouped_pct.to_csv(path_census_tracts + 'CensusTracts/BK_NTA_LifeExp_Income_Dist.csv')\n",
    "MN_NTA_grouped_pct.to_csv(path_census_tracts + 'CensusTracts/MN_NTA_LifeExp_Income_Dist.csv')"
   ]
  }
 ],
 "metadata": {
  "kernelspec": {
   "display_name": "Python 3",
   "language": "python",
   "name": "python3"
  },
  "language_info": {
   "codemirror_mode": {
    "name": "ipython",
    "version": 3
   },
   "file_extension": ".py",
   "mimetype": "text/x-python",
   "name": "python",
   "nbconvert_exporter": "python",
   "pygments_lexer": "ipython3",
   "version": "3.7.5"
  }
 },
 "nbformat": 4,
 "nbformat_minor": 2
}
