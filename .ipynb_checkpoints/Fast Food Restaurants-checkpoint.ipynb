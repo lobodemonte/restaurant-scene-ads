{
 "cells": [
  {
   "cell_type": "markdown",
   "metadata": {},
   "source": [
    "The purpose of this notebook are as follows: \n",
    "1. Identify fast food restaurants in each Brooklyn and Manhattan NTA\n",
    "2. Perform clustering "
   ]
  },
  {
   "cell_type": "code",
   "execution_count": 1,
   "metadata": {},
   "outputs": [],
   "source": [
    "# Setting up modules\n",
    "import geopandas as gpd\n",
    "from geopandas import GeoDataFrame\n",
    "import numpy as np\n",
    "import pandas as pd\n",
    "import matplotlib.pylab as plt"
   ]
  },
  {
   "cell_type": "code",
   "execution_count": 5,
   "metadata": {},
   "outputs": [],
   "source": [
    "# data paths\n",
    "data_path = \"./data\"\n",
    "Yelp_BK_path = data_path +  \"/Yelp/BK/\"\n",
    "Yelp_MN_path = data_path + \"/Yelp/MN/\"\n",
    "path_census_tracts = './data/ACS/CensusTracts'"
   ]
  },
  {
   "cell_type": "code",
   "execution_count": 9,
   "metadata": {},
   "outputs": [],
   "source": [
    "# Reading in Yelp shapefiles \n",
    "MN_Yelp = gpd.read_file(Yelp_MN_path + \"MN_Yelp.shp\")\n",
    "BK_Yelp = gpd.read_file(Yelp_BK_path + \"BK_Yelp.shp\")"
   ]
  },
  {
   "cell_type": "code",
   "execution_count": null,
   "metadata": {},
   "outputs": [],
   "source": []
  }
 ],
 "metadata": {
  "kernelspec": {
   "display_name": "Python 3",
   "language": "python",
   "name": "python3"
  },
  "language_info": {
   "codemirror_mode": {
    "name": "ipython",
    "version": 3
   },
   "file_extension": ".py",
   "mimetype": "text/x-python",
   "name": "python",
   "nbconvert_exporter": "python",
   "pygments_lexer": "ipython3",
   "version": "3.7.5"
  }
 },
 "nbformat": 4,
 "nbformat_minor": 2
}
