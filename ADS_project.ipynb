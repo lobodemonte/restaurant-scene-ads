{
 "cells": [
  {
   "cell_type": "code",
   "execution_count": 38,
   "metadata": {},
   "outputs": [],
   "source": [
    "import json\n",
    "import requests\n",
    "import csv \n",
    "\n",
    "api_key_drew = 'sBfMQZWan1rpr3ugchVmpKLV_mIw9-GUMnNF52cznlGZc7GINf2J3TBP0We9j8fyIPFMsZP_if7E6H0k72AvPsMU8wwL-hOXWbW2zuRkSEa4TmBEb171AGvtbOecXXYx'\n",
    "api_key_erik = 'L9JXqxrohAsyw83Y87m4Aw1IpMjOOkhw660ZaZXxpYi5cwgJD2p_EG7nbfzmE827BmPNkpZ-R3ch6J91e1thjTILnGyAV5fWygEDCx1imp-eqVMlQBHZzGSUfx-uXXYx'\n"
   ]
  },
  {
   "cell_type": "code",
   "execution_count": 39,
   "metadata": {},
   "outputs": [],
   "source": [
    "def parse_yelp_business_data(businesses):\n",
    "    params = ['id','alias','name','is_closed','review_count','rating','price',\n",
    "    #          'transactions',\n",
    "              'categories',         \n",
    "              'coordinates',\n",
    "              'location']\n",
    "\n",
    "    header = ['id','alias','name','is_closed','review_count','rating','price',\n",
    "    #          'transactions',\n",
    "              'categories',\n",
    "              'latitude','longitude',\n",
    "              'address','city','zipcode','state','country']\n",
    "\n",
    "    csvData = [header]\n",
    "    for business in businesses: \n",
    "        data = []\n",
    "        for param in params: \n",
    "            try:\n",
    "                if (param == 'coordinates'):\n",
    "                    coordinates = business[param]\n",
    "                    data.append(coordinates['latitude'])\n",
    "                    data.append(coordinates['longitude'])\n",
    "                elif (param == 'location'):\n",
    "                    location = business[param]\n",
    "                    address = location['address1']\n",
    "                    city = location['city']\n",
    "                    zipcode = location['zip_code']\n",
    "                    state = location['state']\n",
    "                    country = location['country']\n",
    "                    data.extend([address, city, zipcode, state, country])\n",
    "                elif (param == 'categories'):\n",
    "                    categories = business[param]\n",
    "                    cats = []\n",
    "                    for category in categories:\n",
    "                        cats.append(category['alias'])\n",
    "                    data.append(','.join([str(x) for x in cats]))\n",
    "                else:    \n",
    "                    value = business[param]\n",
    "                    data.append(value)\n",
    "            except:\n",
    "                data.append('MISSING')\n",
    "        if ( len(data) != 0):\n",
    "            csvData.append(data)\n",
    "    return csvData"
   ]
  },
  {
   "cell_type": "code",
   "execution_count": 40,
   "metadata": {},
   "outputs": [],
   "source": [
    "headers = {'Authorization': 'Bearer %s' % api_key_erik}\n",
    "\n",
    "offset = 0\n",
    "limit = 10\n",
    "max_limit = 50\n",
    "\n",
    "url = 'https://api.yelp.com/v3/businesses/search'\n",
    "params = {'term': 'Restaurants',\n",
    "          'location': 'Brooklyn, NY',\n",
    "          'limit': limit,\n",
    "          'offset': offset\n",
    "         }\n",
    "\n",
    "req = requests.get(url, params=params, headers=headers)\n",
    "parsed = json.loads(req.text)\n",
    "\n",
    "businesses = parsed['businesses']\n",
    "total = parsed['total']\n",
    "\n",
    "csvData = parse_yelp_business_data(businesses)\n",
    "\n",
    "with open('restaurant_data.csv', 'w', newline='') as csvFile:\n",
    "    writer = csv.writer(csvFile)\n",
    "    writer.writerows(csvData)\n",
    "\n",
    "csvFile.close()"
   ]
  },
  {
   "cell_type": "code",
   "execution_count": null,
   "metadata": {},
   "outputs": [],
   "source": []
  }
 ],
 "metadata": {
  "kernelspec": {
   "display_name": "Python 3",
   "language": "python",
   "name": "python3"
  },
  "language_info": {
   "codemirror_mode": {
    "name": "ipython",
    "version": 3
   },
   "file_extension": ".py",
   "mimetype": "text/x-python",
   "name": "python",
   "nbconvert_exporter": "python",
   "pygments_lexer": "ipython3",
   "version": "3.7.4"
  }
 },
 "nbformat": 4,
 "nbformat_minor": 2
}
