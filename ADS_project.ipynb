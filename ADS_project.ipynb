{
 "cells": [
  {
   "cell_type": "code",
   "execution_count": 6,
   "metadata": {},
   "outputs": [],
   "source": [
    "import json\n",
    "import requests\n",
    "import csv \n",
    "\n",
    "api_key_drew = 'sBfMQZWan1rpr3ugchVmpKLV_mIw9-GUMnNF52cznlGZc7GINf2J3TBP0We9j8fyIPFMsZP_if7E6H0k72AvPsMU8wwL-hOXWbW2zuRkSEa4TmBEb171AGvtbOecXXYx'\n",
    "api_key_erik = 'L9JXqxrohAsyw83Y87m4Aw1IpMjOOkhw660ZaZXxpYi5cwgJD2p_EG7nbfzmE827BmPNkpZ-R3ch6J91e1thjTILnGyAV5fWygEDCx1imp-eqVMlQBHZzGSUfx-uXXYx'\n"
   ]
  },
  {
   "cell_type": "code",
   "execution_count": 7,
   "metadata": {},
   "outputs": [],
   "source": [
    "def parse_yelp_business_data(businesses, params):\n",
    "    csvData = []\n",
    "    for business in businesses: \n",
    "        data = []\n",
    "        for param in params: \n",
    "            try:\n",
    "                if (param == 'coordinates'):\n",
    "                    coordinates = business[param]\n",
    "                    data.append(coordinates['latitude'])\n",
    "                    data.append(coordinates['longitude'])\n",
    "                elif (param == 'location'):\n",
    "                    location = business[param]\n",
    "                    address = location['address1']\n",
    "                    city = location['city']\n",
    "                    zipcode = location['zip_code']\n",
    "                    state = location['state']\n",
    "                    country = location['country']\n",
    "                    data.extend([address, city, zipcode, state, country])\n",
    "                elif (param == 'categories'):\n",
    "                    categories = business[param]\n",
    "                    cats = []\n",
    "                    for category in categories:\n",
    "                        cats.append(category['alias'])\n",
    "                    data.append(','.join([str(x) for x in cats]))\n",
    "                else:    \n",
    "                    value = business[param]\n",
    "                    data.append(value)\n",
    "            except:\n",
    "                data.append('MISSING')\n",
    "        if ( len(data) != 0):\n",
    "            csvData.append(data)\n",
    "    return csvData"
   ]
  },
  {
   "cell_type": "code",
   "execution_count": 8,
   "metadata": {},
   "outputs": [],
   "source": [
    "def get_parsed_json_yelp_data(api_key, term, borough, limit, offset):\n",
    "    headers = {'Authorization': 'Bearer %s' % api_key}\n",
    "    url = 'https://api.yelp.com/v3/businesses/search'\n",
    "    params = {'term': term, 'location': borough, 'limit': limit, 'offset': offset}\n",
    "    req = requests.get(url, params=params, headers=headers)\n",
    "    parsed = json.loads(req.text)\n",
    "    return parsed"
   ]
  },
  {
   "cell_type": "code",
   "execution_count": 9,
   "metadata": {},
   "outputs": [],
   "source": [
    "def create_empty_csv_file(name, header): \n",
    "    with open(name, 'w', newline='', encoding='utf-8') as csvFile:\n",
    "        writer = csv.writer(csvFile)\n",
    "        writer.writerows([header])\n",
    "    csvFile.close()\n",
    "    \n",
    "def append_to_csv_file(name, csvData):\n",
    "    with open(name, 'a', newline='', encoding='utf-8') as csvFile:\n",
    "        writer = csv.writer(csvFile)\n",
    "        try: \n",
    "            writer.writerows(csvData)\n",
    "        except Exception as e:\n",
    "            print(csvData)\n",
    "            print(e)\n",
    "    csvFile.close()"
   ]
  },
  {
   "cell_type": "code",
   "execution_count": 10,
   "metadata": {},
   "outputs": [
    {
     "ename": "KeyError",
     "evalue": "'total'",
     "output_type": "error",
     "traceback": [
      "\u001b[1;31m---------------------------------------------------------------------------\u001b[0m",
      "\u001b[1;31mKeyError\u001b[0m                                  Traceback (most recent call last)",
      "\u001b[1;32m<ipython-input-10-08e55f985f85>\u001b[0m in \u001b[0;36m<module>\u001b[1;34m\u001b[0m\n\u001b[0;32m     21\u001b[0m \u001b[1;33m\u001b[0m\u001b[0m\n\u001b[0;32m     22\u001b[0m \u001b[0mparsed\u001b[0m \u001b[1;33m=\u001b[0m \u001b[0mget_parsed_json_yelp_data\u001b[0m\u001b[1;33m(\u001b[0m\u001b[0mapi_key_erik\u001b[0m\u001b[1;33m,\u001b[0m \u001b[0mterm\u001b[0m\u001b[1;33m,\u001b[0m \u001b[0mborough\u001b[0m\u001b[1;33m,\u001b[0m \u001b[0mlimit\u001b[0m\u001b[1;33m,\u001b[0m \u001b[0moffset\u001b[0m\u001b[1;33m)\u001b[0m\u001b[1;33m\u001b[0m\u001b[1;33m\u001b[0m\u001b[0m\n\u001b[1;32m---> 23\u001b[1;33m \u001b[0mtotal\u001b[0m \u001b[1;33m=\u001b[0m \u001b[0mparsed\u001b[0m\u001b[1;33m[\u001b[0m\u001b[1;34m'total'\u001b[0m\u001b[1;33m]\u001b[0m\u001b[1;33m\u001b[0m\u001b[1;33m\u001b[0m\u001b[0m\n\u001b[0m\u001b[0;32m     24\u001b[0m \u001b[0mprint\u001b[0m\u001b[1;33m(\u001b[0m\u001b[1;34m\"Total Number of Records: {}\"\u001b[0m\u001b[1;33m.\u001b[0m\u001b[0mformat\u001b[0m\u001b[1;33m(\u001b[0m\u001b[0mtotal\u001b[0m\u001b[1;33m)\u001b[0m\u001b[1;33m)\u001b[0m\u001b[1;33m\u001b[0m\u001b[1;33m\u001b[0m\u001b[0m\n\u001b[0;32m     25\u001b[0m \u001b[1;33m\u001b[0m\u001b[0m\n",
      "\u001b[1;31mKeyError\u001b[0m: 'total'"
     ]
    }
   ],
   "source": [
    "params = ['id','alias','name','is_closed','review_count','rating','price',\n",
    "#          'transactions',\n",
    "          'categories',         \n",
    "          'coordinates',\n",
    "          'location']\n",
    "\n",
    "header = ['id','alias','name','is_closed','review_count','rating','price',\n",
    "#          'transactions',\n",
    "          'categories',\n",
    "          'latitude','longitude',\n",
    "          'address','city','zipcode','state','country']\n",
    "\n",
    "name = 'restaurant_data.csv'\n",
    "term = 'Restaurants'\n",
    "borough = 'Brooklyn, NY'\n",
    "offset = 900\n",
    "max_limit = 50 ##TODO change to 50\n",
    "limit = max_limit\n",
    "\n",
    "create_empty_csv_file(name, header)\n",
    "\n",
    "parsed = get_parsed_json_yelp_data(api_key_erik, term, borough, limit, offset)\n",
    "total = parsed['total']\n",
    "print(\"Total Number of Records: {}\".format(total))\n",
    "\n",
    "businesses = parsed['businesses']\n",
    "csvData = parse_yelp_business_data(businesses,params)\n",
    "print(\"Offset: {}, Total: {}, Businesses: {}\".format(offset, total, len(businesses)))\n",
    "append_to_csv_file(name, csvData)\n",
    "\n",
    "offset += limit\n",
    "while (offset < total): \n",
    "    try: \n",
    "        parsed = get_parsed_json_yelp_data(api_key_erik, term, borough, limit, offset)\n",
    "        businesses = parsed['businesses']\n",
    "        csvData = parse_yelp_business_data(businesses, params)\n",
    "        print(\"Offset: {}, Total: {}, Businesses: {}\".format(offset, total, len(businesses)))\n",
    "        append_to_csv_file(name,csvData)\n",
    "        offset += limit\n",
    "    except:\n",
    "        print(\"Issue while appending parsed data: {}\".format(parsed))\n",
    "        break\n"
   ]
  },
  {
   "cell_type": "code",
   "execution_count": null,
   "metadata": {},
   "outputs": [],
   "source": []
  }
 ],
 "metadata": {
  "kernelspec": {
   "display_name": "Python 3",
   "language": "python",
   "name": "python3"
  },
  "language_info": {
   "codemirror_mode": {
    "name": "ipython",
    "version": 3
   },
   "file_extension": ".py",
   "mimetype": "text/x-python",
   "name": "python",
   "nbconvert_exporter": "python",
   "pygments_lexer": "ipython3",
   "version": "3.7.4"
  }
 },
 "nbformat": 4,
 "nbformat_minor": 2
}
