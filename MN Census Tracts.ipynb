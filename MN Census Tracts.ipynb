{
 "cells": [
  {
   "cell_type": "markdown",
   "metadata": {},
   "source": [
    "The purpose of this notebook is to merge the ACS data with the 2019 TIGER/Line shapefile of Census Tracts in New York. This enables further merging and cross-analysis with the georeferenced Yelp data. "
   ]
  },
  {
   "cell_type": "code",
   "execution_count": 26,
   "metadata": {},
   "outputs": [],
   "source": [
    "# Setting up modules\n",
    "import geopandas as gpd\n",
    "import numpy as np\n",
    "import pandas as pd\n",
    "import matplotlib.pylab as plt\n",
    "\n",
    "# Data path \n",
    "path = './data/'"
   ]
  },
  {
   "cell_type": "code",
   "execution_count": 27,
   "metadata": {},
   "outputs": [],
   "source": [
    "# Import data\n",
    "NY_state_census_tracts = gpd.read_file(path + \"tl_2019_36_tract.shp\")\n",
    "MN_Yelp = gpd.read_file(path + \"MN_Yelp.shp\")\n",
    "\n",
    "##NY_state_census_tracts.head()\n",
    "##MN_Yelp.head()"
   ]
  },
  {
   "cell_type": "code",
   "execution_count": 28,
   "metadata": {},
   "outputs": [],
   "source": [
    "# Filter for NYC (Manhattan and Brooklyn)\n",
    "\n",
    "BK = NY_state_census_tracts[NY_state_census_tracts[\"COUNTYFP\"] == '047']\n",
    "MN = NY_state_census_tracts[NY_state_census_tracts[\"COUNTYFP\"] == '061']\n",
    "\n",
    "#Cutting out all of the crap\n",
    "MN = MN[[\"GEOID\", \"geometry\"]]"
   ]
  },
  {
   "cell_type": "code",
   "execution_count": 30,
   "metadata": {},
   "outputs": [
    {
     "data": {
      "text/plain": [
       "True"
      ]
     },
     "execution_count": 30,
     "metadata": {},
     "output_type": "execute_result"
    }
   ],
   "source": [
    "# Are the CRSes identical?\n",
    "MN.crs == MN_Yelp.crs"
   ]
  },
  {
   "cell_type": "code",
   "execution_count": 31,
   "metadata": {
    "collapsed": true
   },
   "outputs": [
    {
     "data": {
      "text/html": [
       "<div>\n",
       "<style scoped>\n",
       "    .dataframe tbody tr th:only-of-type {\n",
       "        vertical-align: middle;\n",
       "    }\n",
       "\n",
       "    .dataframe tbody tr th {\n",
       "        vertical-align: top;\n",
       "    }\n",
       "\n",
       "    .dataframe thead th {\n",
       "        text-align: right;\n",
       "    }\n",
       "</style>\n",
       "<table border=\"1\" class=\"dataframe\">\n",
       "  <thead>\n",
       "    <tr style=\"text-align: right;\">\n",
       "      <th></th>\n",
       "      <th>id</th>\n",
       "      <th>alias</th>\n",
       "      <th>name</th>\n",
       "      <th>is_closed</th>\n",
       "      <th>review_cou</th>\n",
       "      <th>rating</th>\n",
       "      <th>price</th>\n",
       "      <th>categories</th>\n",
       "      <th>latitude</th>\n",
       "      <th>longitude</th>\n",
       "      <th>address</th>\n",
       "      <th>city</th>\n",
       "      <th>zipcode</th>\n",
       "      <th>state</th>\n",
       "      <th>country</th>\n",
       "      <th>geometry</th>\n",
       "      <th>index_right</th>\n",
       "      <th>GEOID</th>\n",
       "    </tr>\n",
       "  </thead>\n",
       "  <tbody>\n",
       "    <tr>\n",
       "      <th>0</th>\n",
       "      <td>ksksxd8J2SIs97ccPFV75A</td>\n",
       "      <td>brown-sugar-restaurant-new-york</td>\n",
       "      <td>Brown Sugar Restaurant</td>\n",
       "      <td>0</td>\n",
       "      <td>204</td>\n",
       "      <td>3.5</td>\n",
       "      <td>$$</td>\n",
       "      <td>cuban,seafood,steak</td>\n",
       "      <td>40.869926</td>\n",
       "      <td>-73.915466</td>\n",
       "      <td>5060 Broadway</td>\n",
       "      <td>New York</td>\n",
       "      <td>10034</td>\n",
       "      <td>NY</td>\n",
       "      <td>US</td>\n",
       "      <td>POINT (-73.91546600000001 40.869926)</td>\n",
       "      <td>876</td>\n",
       "      <td>36061030700</td>\n",
       "    </tr>\n",
       "    <tr>\n",
       "      <th>2</th>\n",
       "      <td>rUBFgZU3QTk7IOgpccE8Og</td>\n",
       "      <td>indian-road-cafe-new-york</td>\n",
       "      <td>Indian Road Cafe</td>\n",
       "      <td>0</td>\n",
       "      <td>580</td>\n",
       "      <td>4.0</td>\n",
       "      <td>$$</td>\n",
       "      <td>coffee,newamerican,bars</td>\n",
       "      <td>40.872915</td>\n",
       "      <td>-73.918441</td>\n",
       "      <td>600 W 218th St</td>\n",
       "      <td>New York</td>\n",
       "      <td>10034</td>\n",
       "      <td>NY</td>\n",
       "      <td>US</td>\n",
       "      <td>POINT (-73.91844082 40.87291516)</td>\n",
       "      <td>876</td>\n",
       "      <td>36061030700</td>\n",
       "    </tr>\n",
       "  </tbody>\n",
       "</table>\n",
       "</div>"
      ],
      "text/plain": [
       "                       id                            alias  \\\n",
       "0  ksksxd8J2SIs97ccPFV75A  brown-sugar-restaurant-new-york   \n",
       "2  rUBFgZU3QTk7IOgpccE8Og        indian-road-cafe-new-york   \n",
       "\n",
       "                     name  is_closed  review_cou  rating price  \\\n",
       "0  Brown Sugar Restaurant          0         204     3.5    $$   \n",
       "2        Indian Road Cafe          0         580     4.0    $$   \n",
       "\n",
       "                categories   latitude  longitude         address      city  \\\n",
       "0      cuban,seafood,steak  40.869926 -73.915466   5060 Broadway  New York   \n",
       "2  coffee,newamerican,bars  40.872915 -73.918441  600 W 218th St  New York   \n",
       "\n",
       "  zipcode state country                              geometry  index_right  \\\n",
       "0   10034    NY      US  POINT (-73.91546600000001 40.869926)          876   \n",
       "2   10034    NY      US      POINT (-73.91844082 40.87291516)          876   \n",
       "\n",
       "         GEOID  \n",
       "0  36061030700  \n",
       "2  36061030700  "
      ]
     },
     "execution_count": 31,
     "metadata": {},
     "output_type": "execute_result"
    }
   ],
   "source": [
    "# Spatial join\n",
    "MN_Yelp_joined = gpd.sjoin(MN_Yelp, MN, how = 'inner', op = 'within')\n",
    "MN_Yelp_joined.head(2)"
   ]
  },
  {
   "cell_type": "code",
   "execution_count": 32,
   "metadata": {},
   "outputs": [],
   "source": [
    "# Saving to file as .shp\n",
    "## Impt to set encoding = 'utf-8' or it will throw a codec error\n",
    "MN_Yelp_joined.to_file(path + 'MN_Yelp_CensusTract.shp', driver='ESRI Shapefile', encoding = 'utf-8')"
   ]
  }
 ],
 "metadata": {
  "kernelspec": {
   "display_name": "Python 3",
   "language": "python",
   "name": "python3"
  },
  "language_info": {
   "codemirror_mode": {
    "name": "ipython",
    "version": 3
   },
   "file_extension": ".py",
   "mimetype": "text/x-python",
   "name": "python",
   "nbconvert_exporter": "python",
   "pygments_lexer": "ipython3",
   "version": "3.7.3"
  }
 },
 "nbformat": 4,
 "nbformat_minor": 2
}
